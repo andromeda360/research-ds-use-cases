{
 "cells": [
  {
   "cell_type": "markdown",
   "id": "7bbf262c",
   "metadata": {},
   "source": [
    "# Importing the required libraries"
   ]
  },
  {
   "cell_type": "code",
   "execution_count": 1,
   "id": "a439be07",
   "metadata": {},
   "outputs": [],
   "source": [
    "import requests\n",
    "import pandas as pd\n",
    "import numpy as np\n",
    "from bs4 import BeautifulSoup"
   ]
  },
  {
   "cell_type": "code",
   "execution_count": 2,
   "id": "5720212b",
   "metadata": {},
   "outputs": [],
   "source": [
    "#i=requests.get('https://sofifa.com/?showCol%5B%5D=pi&showCol%5B%5D=ae&showCol%5B%5D=hi&showCol%5B%5D=wi&showCol%5B%5D=pf&showCol%5B%5D=oa&showCol%5B%5D=pt&showCol%5B%5D=bo&showCol%5B%5D=bp&showCol%5B%5D=gu&showCol%5B%5D=jt&showCol%5B%5D=le&showCol%5B%5D=vl&showCol%5B%5D=wg&showCol%5B%5D=rc&showCol%5B%5D=ta&showCol%5B%5D=cr&showCol%5B%5D=fi&showCol%5B%5D=he&showCol%5B%5D=sh&showCol%5B%5D=vo&showCol%5B%5D=ts&showCol%5B%5D=dr&showCol%5B%5D=cu&showCol%5B%5D=fr&showCol%5B%5D=lo&showCol%5B%5D=bl&showCol%5B%5D=to&showCol%5B%5D=ac&showCol%5B%5D=sp&showCol%5B%5D=ag&showCol%5B%5D=re&showCol%5B%5D=ba&showCol%5B%5D=tp&showCol%5B%5D=so&showCol%5B%5D=ju&showCol%5B%5D=st&showCol%5B%5D=sr&showCol%5B%5D=ln&showCol%5B%5D=te&showCol%5B%5D=ar&showCol%5B%5D=in&showCol%5B%5D=po&showCol%5B%5D=vi&showCol%5B%5D=pe&showCol%5B%5D=cm&showCol%5B%5D=td&showCol%5B%5D=ma&showCol%5B%5D=sa&showCol%5B%5D=sl&showCol%5B%5D=tg&showCol%5B%5D=gd&showCol%5B%5D=gh&showCol%5B%5D=gc&showCol%5B%5D=gp&showCol%5B%5D=gr&showCol%5B%5D=tt&showCol%5B%5D=bs&showCol%5B%5D=wk&showCol%5B%5D=sk&showCol%5B%5D=aw&showCol%5B%5D=dw&showCol%5B%5D=ir&showCol%5B%5D=bt&showCol%5B%5D=pac&showCol%5B%5D=sho&showCol%5B%5D=pas&showCol%5B%5D=dri&showCol%5B%5D=def&showCol%5B%5D=phy&offset='+str(i)+'')\n",
    "#soup=BeautifulSoup(i.text,'html.parser')"
   ]
  },
  {
   "cell_type": "markdown",
   "id": "d788c51b",
   "metadata": {},
   "source": [
    "#Website has multiple pages, each page number is of step 60"
   ]
  },
  {
   "cell_type": "code",
   "execution_count": 3,
   "id": "78aea050",
   "metadata": {},
   "outputs": [],
   "source": [
    "pages=np.arange(1,19980,60)"
   ]
  },
  {
   "cell_type": "code",
   "execution_count": 4,
   "id": "9dc5bdab",
   "metadata": {},
   "outputs": [],
   "source": [
    "ID=[]\n",
    "national=[]\n",
    "for i in pages:\n",
    "    i=requests.get('https://sofifa.com/?showCol%5B%5D=pi&showCol%5B%5D=ae&showCol%5B%5D=hi&showCol%5B%5D=wi&showCol%5B%5D=pf&showCol%5B%5D=oa&showCol%5B%5D=pt&showCol%5B%5D=bo&showCol%5B%5D=bp&showCol%5B%5D=gu&showCol%5B%5D=jt&showCol%5B%5D=le&showCol%5B%5D=vl&showCol%5B%5D=wg&showCol%5B%5D=rc&showCol%5B%5D=ta&showCol%5B%5D=cr&showCol%5B%5D=fi&showCol%5B%5D=he&showCol%5B%5D=sh&showCol%5B%5D=vo&showCol%5B%5D=ts&showCol%5B%5D=dr&showCol%5B%5D=cu&showCol%5B%5D=fr&showCol%5B%5D=lo&showCol%5B%5D=bl&showCol%5B%5D=to&showCol%5B%5D=ac&showCol%5B%5D=sp&showCol%5B%5D=ag&showCol%5B%5D=re&showCol%5B%5D=ba&showCol%5B%5D=tp&showCol%5B%5D=so&showCol%5B%5D=ju&showCol%5B%5D=st&showCol%5B%5D=sr&showCol%5B%5D=ln&showCol%5B%5D=te&showCol%5B%5D=ar&showCol%5B%5D=in&showCol%5B%5D=po&showCol%5B%5D=vi&showCol%5B%5D=pe&showCol%5B%5D=cm&showCol%5B%5D=td&showCol%5B%5D=ma&showCol%5B%5D=sa&showCol%5B%5D=sl&showCol%5B%5D=tg&showCol%5B%5D=gd&showCol%5B%5D=gh&showCol%5B%5D=gc&showCol%5B%5D=gp&showCol%5B%5D=gr&showCol%5B%5D=tt&showCol%5B%5D=bs&showCol%5B%5D=wk&showCol%5B%5D=sk&showCol%5B%5D=aw&showCol%5B%5D=dw&showCol%5B%5D=ir&showCol%5B%5D=bt&showCol%5B%5D=pac&showCol%5B%5D=sho&showCol%5B%5D=pas&showCol%5B%5D=dri&showCol%5B%5D=def&showCol%5B%5D=phy&offset='+str(i)+'')\n",
    "    soup=BeautifulSoup(i.text,'html.parser')\n",
    "    for p in soup.find_all('td',class_='col col-pi'):\n",
    "        ID.append(p.text.strip())\n",
    "    \n",
    "    \n",
    "    for k in soup.find_all('img',title=True):\n",
    "        national.append(k['title'])\n",
    "        "
   ]
  },
  {
   "cell_type": "code",
   "execution_count": 7,
   "id": "763ba2f1",
   "metadata": {
    "scrolled": true
   },
   "outputs": [],
   "source": [
    "d={'id':ID,'national':national}"
   ]
  },
  {
   "cell_type": "code",
   "execution_count": 12,
   "id": "f7d7944f",
   "metadata": {},
   "outputs": [],
   "source": [
    "df = pd.DataFrame.from_dict(d, orient='index')\n",
    "df=df.transpose()"
   ]
  },
  {
   "cell_type": "code",
   "execution_count": 28,
   "id": "510d369a",
   "metadata": {},
   "outputs": [],
   "source": [
    "df1=df.rename(columns={'id':'ID'})"
   ]
  },
  {
   "cell_type": "code",
   "execution_count": 26,
   "id": "8eda6247",
   "metadata": {},
   "outputs": [
    {
     "data": {
      "text/plain": [
       "array(['United States', 'Germany', 'Brazil', 'France', 'Spain', 'Italy',\n",
       "       'Netherlands', 'Japan', 'Poland', 'Turkey', 'China PR', 'Sweden',\n",
       "       'Russia', 'Portugal', 'Korea Republic', 'Denmark', 'Norway',\n",
       "       'Hungary', 'Finland', 'Hong Kong', 'Ukraine', 'Czech Republic',\n",
       "       'Saudi Arabia', 'Georgia', 'Australia', 'England', 'Croatia',\n",
       "       'Nigeria', 'Uruguay', 'Ecuador', 'Mexico', 'Serbia', 'Belgium',\n",
       "       'Ghana', 'Argentina', 'Slovenia', 'Algeria', 'Republic of Ireland',\n",
       "       'Cameroon', 'Senegal', 'Suriname', 'Canada', 'Colombia',\n",
       "       'Scotland', 'Wales', 'Egypt', 'Albania', 'Romania', 'Qatar',\n",
       "       'Gambia', 'Austria', \"Côte d'Ivoire\", 'Bosnia and Herzegovina',\n",
       "       'Switzerland', 'North Macedonia', 'Israel', 'Morocco',\n",
       "       'Burkina Faso', 'Mali', 'Tunisia', 'Chile', 'Iran', 'Greece',\n",
       "       'New Zealand', 'Slovakia', 'Zambia', 'Congo DR', 'Iceland',\n",
       "       'Guinea', 'Central African Republic', 'Venezuela', 'Paraguay',\n",
       "       'Gabon', 'Dominican Republic', 'Luxembourg', 'Sierra Leone',\n",
       "       'Iraq', 'Kosovo', 'Costa Rica', 'Jamaica', 'Peru', 'Azerbaijan',\n",
       "       'Uzbekistan', 'Philippines', 'Armenia', 'Northern Ireland',\n",
       "       'Palestine', 'Liberia', 'Burundi', 'Grenada', 'Cape Verde Islands',\n",
       "       'Montenegro', 'Uganda', 'Cyprus', 'Zimbabwe', 'Tanzania',\n",
       "       'Estonia', 'Honduras', 'Vietnam', 'Angola', 'South Africa',\n",
       "       'Malta', 'Bolivia', 'Lithuania', 'Guyana', 'India',\n",
       "       'Guinea Bissau', 'Belarus', 'Libya', 'Kenya', 'Madagascar',\n",
       "       'Afghanistan', 'Lebanon', 'Congo', 'Mozambique', 'Mauritania',\n",
       "       'Curacao', 'Equatorial Guinea', 'Namibia', 'Kazakhstan',\n",
       "       'Saint Kitts and Nevis', 'Liechtenstein', 'Benin', 'Faroe Islands',\n",
       "       'Singapore', 'Comoros', 'Bulgaria', 'Cuba', 'Gibraltar',\n",
       "       'United Arab Emirates', 'Latvia', 'Haiti', 'Moldova',\n",
       "       'Chinese Taipei', 'Panama', 'Thailand', 'Papua New Guinea',\n",
       "       'Trinidad and Tobago', 'Togo', 'Antigua and Barbuda', 'Korea DPR',\n",
       "       'Syria', 'South Sudan', 'Sudan', 'Andorra', 'Puerto Rico', 'Nepal',\n",
       "       'Guatemala', 'Indonesia', 'Bhutan', 'El Salvador', 'Malawi',\n",
       "       'Malaysia', 'Niger', 'Jordan', 'Ethiopia', 'San Marino', 'Rwanda',\n",
       "       'Bermuda', 'Macau', 'Bahrain'], dtype=object)"
      ]
     },
     "execution_count": 26,
     "metadata": {},
     "output_type": "execute_result"
    }
   ],
   "source": [
    "df['national'].unique()"
   ]
  },
  {
   "cell_type": "code",
   "execution_count": 32,
   "id": "517add43",
   "metadata": {},
   "outputs": [
    {
     "data": {
      "text/html": [
       "<div>\n",
       "<style scoped>\n",
       "    .dataframe tbody tr th:only-of-type {\n",
       "        vertical-align: middle;\n",
       "    }\n",
       "\n",
       "    .dataframe tbody tr th {\n",
       "        vertical-align: top;\n",
       "    }\n",
       "\n",
       "    .dataframe thead th {\n",
       "        text-align: right;\n",
       "    }\n",
       "</style>\n",
       "<table border=\"1\" class=\"dataframe\">\n",
       "  <thead>\n",
       "    <tr style=\"text-align: right;\">\n",
       "      <th></th>\n",
       "      <th>ID</th>\n",
       "      <th>national</th>\n",
       "    </tr>\n",
       "  </thead>\n",
       "  <tbody>\n",
       "    <tr>\n",
       "      <th>0</th>\n",
       "      <td>256790</td>\n",
       "      <td>United States</td>\n",
       "    </tr>\n",
       "    <tr>\n",
       "      <th>1</th>\n",
       "      <td>247635</td>\n",
       "      <td>United States</td>\n",
       "    </tr>\n",
       "    <tr>\n",
       "      <th>2</th>\n",
       "      <td>250723</td>\n",
       "      <td>Germany</td>\n",
       "    </tr>\n",
       "    <tr>\n",
       "      <th>3</th>\n",
       "      <td>268460</td>\n",
       "      <td>Brazil</td>\n",
       "    </tr>\n",
       "    <tr>\n",
       "      <th>4</th>\n",
       "      <td>246340</td>\n",
       "      <td>France</td>\n",
       "    </tr>\n",
       "    <tr>\n",
       "      <th>...</th>\n",
       "      <td>...</td>\n",
       "      <td>...</td>\n",
       "    </tr>\n",
       "    <tr>\n",
       "      <th>27967</th>\n",
       "      <td>None</td>\n",
       "      <td>Argentina</td>\n",
       "    </tr>\n",
       "    <tr>\n",
       "      <th>27968</th>\n",
       "      <td>None</td>\n",
       "      <td>Argentina</td>\n",
       "    </tr>\n",
       "    <tr>\n",
       "      <th>27969</th>\n",
       "      <td>None</td>\n",
       "      <td>Japan</td>\n",
       "    </tr>\n",
       "    <tr>\n",
       "      <th>27970</th>\n",
       "      <td>None</td>\n",
       "      <td>Netherlands</td>\n",
       "    </tr>\n",
       "    <tr>\n",
       "      <th>27971</th>\n",
       "      <td>None</td>\n",
       "      <td>Japan</td>\n",
       "    </tr>\n",
       "  </tbody>\n",
       "</table>\n",
       "<p>27972 rows × 2 columns</p>\n",
       "</div>"
      ],
      "text/plain": [
       "           ID       national\n",
       "0      256790  United States\n",
       "1      247635  United States\n",
       "2      250723        Germany\n",
       "3      268460         Brazil\n",
       "4      246340         France\n",
       "...       ...            ...\n",
       "27967    None      Argentina\n",
       "27968    None      Argentina\n",
       "27969    None          Japan\n",
       "27970    None    Netherlands\n",
       "27971    None          Japan\n",
       "\n",
       "[27972 rows x 2 columns]"
      ]
     },
     "execution_count": 32,
     "metadata": {},
     "output_type": "execute_result"
    }
   ],
   "source": [
    "df1"
   ]
  },
  {
   "cell_type": "code",
   "execution_count": 33,
   "id": "575b69c9",
   "metadata": {},
   "outputs": [],
   "source": [
    "df1.to_csv('newdata_3.csv',index=False)"
   ]
  },
  {
   "cell_type": "code",
   "execution_count": null,
   "id": "05722f6e",
   "metadata": {},
   "outputs": [],
   "source": []
  },
  {
   "cell_type": "code",
   "execution_count": null,
   "id": "f90fa4bc",
   "metadata": {},
   "outputs": [],
   "source": []
  }
 ],
 "metadata": {
  "kernelspec": {
   "display_name": "Python 3 (ipykernel)",
   "language": "python",
   "name": "python3"
  },
  "language_info": {
   "codemirror_mode": {
    "name": "ipython",
    "version": 3
   },
   "file_extension": ".py",
   "mimetype": "text/x-python",
   "name": "python",
   "nbconvert_exporter": "python",
   "pygments_lexer": "ipython3",
   "version": "3.10.5"
  }
 },
 "nbformat": 4,
 "nbformat_minor": 5
}
