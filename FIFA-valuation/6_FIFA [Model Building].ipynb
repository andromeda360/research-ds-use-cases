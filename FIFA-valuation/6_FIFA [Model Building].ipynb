{
 "cells": [
  {
   "cell_type": "markdown",
   "id": "4b217f8c-3746-4437-b52a-00ee4c9a5ba6",
   "metadata": {},
   "source": [
    "# Importing libraries"
   ]
  },
  {
   "cell_type": "code",
   "execution_count": 135,
   "id": "93d9f2be",
   "metadata": {},
   "outputs": [],
   "source": [
    "import numpy as np\n",
    "import pandas as pd\n",
    "import seaborn as sns\n",
    "import matplotlib.pyplot as plt\n",
    "import scipy.stats as st\n",
    "from sklearn.model_selection import train_test_split\n",
    "from sklearn.preprocessing import PowerTransformer\n",
    "from sklearn.preprocessing import StandardScaler\n",
    "from sklearn.linear_model import LinearRegression\n",
    "from sklearn.tree import DecisionTreeRegressor\n",
    "from sklearn.ensemble import RandomForestRegressor\n",
    "import tensorflow_addons as tfa\n",
    "from autokeras import StructuredDataRegressor\n",
    "from sklearn.model_selection import cross_val_score\n",
    "from sklearn.metrics import r2_score\n",
    "pd.pandas.set_option('display.max_columns',None)\n",
    "from xgboost import XGBRegressor\n",
    "pd.options.display.max_rows=100\n",
    "import warnings\n",
    "warnings.filterwarnings(\"ignore\")\n",
    "from tqdm import tqdm\n",
    "import copy"
   ]
  },
  {
   "cell_type": "code",
   "execution_count": 136,
   "id": "3dd02a72",
   "metadata": {},
   "outputs": [],
   "source": [
    "df=pd.read_csv('fifa_model.csv')"
   ]
  },
  {
   "cell_type": "code",
   "execution_count": 142,
   "id": "15ca5d0d-29d0-4251-8392-1125bf6c080e",
   "metadata": {},
   "outputs": [
    {
     "data": {
      "text/plain": [
       "(7164, 5)"
      ]
     },
     "execution_count": 142,
     "metadata": {},
     "output_type": "execute_result"
    }
   ],
   "source": [
    "df.shape"
   ]
  },
  {
   "cell_type": "code",
   "execution_count": 143,
   "id": "8f3bd329",
   "metadata": {},
   "outputs": [
    {
     "data": {
      "text/html": [
       "<div>\n",
       "<style scoped>\n",
       "    .dataframe tbody tr th:only-of-type {\n",
       "        vertical-align: middle;\n",
       "    }\n",
       "\n",
       "    .dataframe tbody tr th {\n",
       "        vertical-align: top;\n",
       "    }\n",
       "\n",
       "    .dataframe thead th {\n",
       "        text-align: right;\n",
       "    }\n",
       "</style>\n",
       "<table border=\"1\" class=\"dataframe\">\n",
       "  <thead>\n",
       "    <tr style=\"text-align: right;\">\n",
       "      <th></th>\n",
       "      <th>Best_overall</th>\n",
       "      <th>Overall_rating</th>\n",
       "      <th>Potential</th>\n",
       "      <th>Age</th>\n",
       "      <th>Value</th>\n",
       "    </tr>\n",
       "  </thead>\n",
       "  <tbody>\n",
       "    <tr>\n",
       "      <th>625</th>\n",
       "      <td>64</td>\n",
       "      <td>63</td>\n",
       "      <td>68</td>\n",
       "      <td>24</td>\n",
       "      <td>675000.0</td>\n",
       "    </tr>\n",
       "    <tr>\n",
       "      <th>3025</th>\n",
       "      <td>56</td>\n",
       "      <td>55</td>\n",
       "      <td>65</td>\n",
       "      <td>20</td>\n",
       "      <td>275000.0</td>\n",
       "    </tr>\n",
       "    <tr>\n",
       "      <th>4736</th>\n",
       "      <td>64</td>\n",
       "      <td>62</td>\n",
       "      <td>78</td>\n",
       "      <td>16</td>\n",
       "      <td>925000.0</td>\n",
       "    </tr>\n",
       "    <tr>\n",
       "      <th>4983</th>\n",
       "      <td>57</td>\n",
       "      <td>56</td>\n",
       "      <td>74</td>\n",
       "      <td>19</td>\n",
       "      <td>375000.0</td>\n",
       "    </tr>\n",
       "    <tr>\n",
       "      <th>2659</th>\n",
       "      <td>56</td>\n",
       "      <td>56</td>\n",
       "      <td>66</td>\n",
       "      <td>20</td>\n",
       "      <td>275000.0</td>\n",
       "    </tr>\n",
       "    <tr>\n",
       "      <th>33</th>\n",
       "      <td>73</td>\n",
       "      <td>73</td>\n",
       "      <td>85</td>\n",
       "      <td>19</td>\n",
       "      <td>7000000.0</td>\n",
       "    </tr>\n",
       "    <tr>\n",
       "      <th>87</th>\n",
       "      <td>69</td>\n",
       "      <td>64</td>\n",
       "      <td>86</td>\n",
       "      <td>18</td>\n",
       "      <td>1900000.0</td>\n",
       "    </tr>\n",
       "    <tr>\n",
       "      <th>1470</th>\n",
       "      <td>70</td>\n",
       "      <td>69</td>\n",
       "      <td>75</td>\n",
       "      <td>23</td>\n",
       "      <td>2100000.0</td>\n",
       "    </tr>\n",
       "    <tr>\n",
       "      <th>6151</th>\n",
       "      <td>58</td>\n",
       "      <td>55</td>\n",
       "      <td>66</td>\n",
       "      <td>22</td>\n",
       "      <td>275000.0</td>\n",
       "    </tr>\n",
       "    <tr>\n",
       "      <th>4854</th>\n",
       "      <td>57</td>\n",
       "      <td>57</td>\n",
       "      <td>75</td>\n",
       "      <td>17</td>\n",
       "      <td>350000.0</td>\n",
       "    </tr>\n",
       "  </tbody>\n",
       "</table>\n",
       "</div>"
      ],
      "text/plain": [
       "      Best_overall  Overall_rating  Potential  Age      Value\n",
       "625             64              63         68   24   675000.0\n",
       "3025            56              55         65   20   275000.0\n",
       "4736            64              62         78   16   925000.0\n",
       "4983            57              56         74   19   375000.0\n",
       "2659            56              56         66   20   275000.0\n",
       "33              73              73         85   19  7000000.0\n",
       "87              69              64         86   18  1900000.0\n",
       "1470            70              69         75   23  2100000.0\n",
       "6151            58              55         66   22   275000.0\n",
       "4854            57              57         75   17   350000.0"
      ]
     },
     "execution_count": 143,
     "metadata": {},
     "output_type": "execute_result"
    }
   ],
   "source": [
    "df.sample(10)"
   ]
  },
  {
   "cell_type": "code",
   "execution_count": 138,
   "id": "f1c34534",
   "metadata": {},
   "outputs": [
    {
     "data": {
      "text/html": [
       "<div>\n",
       "<style scoped>\n",
       "    .dataframe tbody tr th:only-of-type {\n",
       "        vertical-align: middle;\n",
       "    }\n",
       "\n",
       "    .dataframe tbody tr th {\n",
       "        vertical-align: top;\n",
       "    }\n",
       "\n",
       "    .dataframe thead th {\n",
       "        text-align: right;\n",
       "    }\n",
       "</style>\n",
       "<table border=\"1\" class=\"dataframe\">\n",
       "  <thead>\n",
       "    <tr style=\"text-align: right;\">\n",
       "      <th></th>\n",
       "      <th>Best_overall</th>\n",
       "      <th>Overall_rating</th>\n",
       "      <th>Potential</th>\n",
       "      <th>Age</th>\n",
       "      <th>Value</th>\n",
       "    </tr>\n",
       "  </thead>\n",
       "  <tbody>\n",
       "    <tr>\n",
       "      <th>count</th>\n",
       "      <td>7164.000000</td>\n",
       "      <td>7164.000000</td>\n",
       "      <td>7164.000000</td>\n",
       "      <td>7164.000000</td>\n",
       "      <td>7.164000e+03</td>\n",
       "    </tr>\n",
       "    <tr>\n",
       "      <th>mean</th>\n",
       "      <td>62.950307</td>\n",
       "      <td>61.595617</td>\n",
       "      <td>70.509771</td>\n",
       "      <td>21.968174</td>\n",
       "      <td>3.388325e+06</td>\n",
       "    </tr>\n",
       "    <tr>\n",
       "      <th>std</th>\n",
       "      <td>8.678896</td>\n",
       "      <td>8.743075</td>\n",
       "      <td>7.895170</td>\n",
       "      <td>4.066231</td>\n",
       "      <td>1.047716e+07</td>\n",
       "    </tr>\n",
       "    <tr>\n",
       "      <th>min</th>\n",
       "      <td>45.000000</td>\n",
       "      <td>44.000000</td>\n",
       "      <td>47.000000</td>\n",
       "      <td>15.000000</td>\n",
       "      <td>1.000000e+04</td>\n",
       "    </tr>\n",
       "    <tr>\n",
       "      <th>25%</th>\n",
       "      <td>56.000000</td>\n",
       "      <td>55.000000</td>\n",
       "      <td>65.000000</td>\n",
       "      <td>19.000000</td>\n",
       "      <td>2.200000e+05</td>\n",
       "    </tr>\n",
       "    <tr>\n",
       "      <th>50%</th>\n",
       "      <td>62.000000</td>\n",
       "      <td>60.000000</td>\n",
       "      <td>70.000000</td>\n",
       "      <td>21.000000</td>\n",
       "      <td>5.250000e+05</td>\n",
       "    </tr>\n",
       "    <tr>\n",
       "      <th>75%</th>\n",
       "      <td>68.000000</td>\n",
       "      <td>67.000000</td>\n",
       "      <td>76.000000</td>\n",
       "      <td>24.000000</td>\n",
       "      <td>1.600000e+06</td>\n",
       "    </tr>\n",
       "    <tr>\n",
       "      <th>max</th>\n",
       "      <td>92.000000</td>\n",
       "      <td>91.000000</td>\n",
       "      <td>95.000000</td>\n",
       "      <td>42.000000</td>\n",
       "      <td>1.905000e+08</td>\n",
       "    </tr>\n",
       "  </tbody>\n",
       "</table>\n",
       "</div>"
      ],
      "text/plain": [
       "       Best_overall  Overall_rating    Potential          Age         Value\n",
       "count   7164.000000     7164.000000  7164.000000  7164.000000  7.164000e+03\n",
       "mean      62.950307       61.595617    70.509771    21.968174  3.388325e+06\n",
       "std        8.678896        8.743075     7.895170     4.066231  1.047716e+07\n",
       "min       45.000000       44.000000    47.000000    15.000000  1.000000e+04\n",
       "25%       56.000000       55.000000    65.000000    19.000000  2.200000e+05\n",
       "50%       62.000000       60.000000    70.000000    21.000000  5.250000e+05\n",
       "75%       68.000000       67.000000    76.000000    24.000000  1.600000e+06\n",
       "max       92.000000       91.000000    95.000000    42.000000  1.905000e+08"
      ]
     },
     "execution_count": 138,
     "metadata": {},
     "output_type": "execute_result"
    }
   ],
   "source": [
    "df.describe()"
   ]
  },
  {
   "cell_type": "code",
   "execution_count": 59,
   "id": "efcc0805",
   "metadata": {},
   "outputs": [
    {
     "data": {
      "text/plain": [
       "0"
      ]
     },
     "execution_count": 59,
     "metadata": {},
     "output_type": "execute_result"
    }
   ],
   "source": [
    "df.duplicated().sum()"
   ]
  },
  {
   "cell_type": "code",
   "execution_count": 144,
   "id": "6063b171-9d09-4f0e-891f-967de1367ee6",
   "metadata": {},
   "outputs": [
    {
     "data": {
      "text/html": [
       "<div>\n",
       "<style scoped>\n",
       "    .dataframe tbody tr th:only-of-type {\n",
       "        vertical-align: middle;\n",
       "    }\n",
       "\n",
       "    .dataframe tbody tr th {\n",
       "        vertical-align: top;\n",
       "    }\n",
       "\n",
       "    .dataframe thead th {\n",
       "        text-align: right;\n",
       "    }\n",
       "</style>\n",
       "<table border=\"1\" class=\"dataframe\">\n",
       "  <thead>\n",
       "    <tr style=\"text-align: right;\">\n",
       "      <th></th>\n",
       "      <th>Best_overall</th>\n",
       "      <th>Overall_rating</th>\n",
       "      <th>Potential</th>\n",
       "      <th>Age</th>\n",
       "      <th>Value</th>\n",
       "    </tr>\n",
       "  </thead>\n",
       "  <tbody>\n",
       "    <tr>\n",
       "      <th>82</th>\n",
       "      <td>92</td>\n",
       "      <td>91</td>\n",
       "      <td>95</td>\n",
       "      <td>23</td>\n",
       "      <td>190500000.0</td>\n",
       "    </tr>\n",
       "    <tr>\n",
       "      <th>92</th>\n",
       "      <td>92</td>\n",
       "      <td>91</td>\n",
       "      <td>91</td>\n",
       "      <td>35</td>\n",
       "      <td>54000000.0</td>\n",
       "    </tr>\n",
       "    <tr>\n",
       "      <th>140</th>\n",
       "      <td>91</td>\n",
       "      <td>91</td>\n",
       "      <td>91</td>\n",
       "      <td>31</td>\n",
       "      <td>107500000.0</td>\n",
       "    </tr>\n",
       "    <tr>\n",
       "      <th>448</th>\n",
       "      <td>91</td>\n",
       "      <td>91</td>\n",
       "      <td>91</td>\n",
       "      <td>33</td>\n",
       "      <td>84000000.0</td>\n",
       "    </tr>\n",
       "    <tr>\n",
       "      <th>528</th>\n",
       "      <td>91</td>\n",
       "      <td>91</td>\n",
       "      <td>91</td>\n",
       "      <td>34</td>\n",
       "      <td>64000000.0</td>\n",
       "    </tr>\n",
       "    <tr>\n",
       "      <th>34</th>\n",
       "      <td>90</td>\n",
       "      <td>90</td>\n",
       "      <td>90</td>\n",
       "      <td>37</td>\n",
       "      <td>41000000.0</td>\n",
       "    </tr>\n",
       "    <tr>\n",
       "      <th>233</th>\n",
       "      <td>90</td>\n",
       "      <td>90</td>\n",
       "      <td>90</td>\n",
       "      <td>30</td>\n",
       "      <td>115500000.0</td>\n",
       "    </tr>\n",
       "    <tr>\n",
       "      <th>695</th>\n",
       "      <td>90</td>\n",
       "      <td>90</td>\n",
       "      <td>90</td>\n",
       "      <td>36</td>\n",
       "      <td>13500000.0</td>\n",
       "    </tr>\n",
       "    <tr>\n",
       "      <th>89</th>\n",
       "      <td>89</td>\n",
       "      <td>89</td>\n",
       "      <td>89</td>\n",
       "      <td>29</td>\n",
       "      <td>101000000.0</td>\n",
       "    </tr>\n",
       "    <tr>\n",
       "      <th>107</th>\n",
       "      <td>89</td>\n",
       "      <td>89</td>\n",
       "      <td>89</td>\n",
       "      <td>28</td>\n",
       "      <td>105500000.0</td>\n",
       "    </tr>\n",
       "  </tbody>\n",
       "</table>\n",
       "</div>"
      ],
      "text/plain": [
       "     Best_overall  Overall_rating  Potential  Age        Value\n",
       "82             92              91         95   23  190500000.0\n",
       "92             92              91         91   35   54000000.0\n",
       "140            91              91         91   31  107500000.0\n",
       "448            91              91         91   33   84000000.0\n",
       "528            91              91         91   34   64000000.0\n",
       "34             90              90         90   37   41000000.0\n",
       "233            90              90         90   30  115500000.0\n",
       "695            90              90         90   36   13500000.0\n",
       "89             89              89         89   29  101000000.0\n",
       "107            89              89         89   28  105500000.0"
      ]
     },
     "execution_count": 144,
     "metadata": {},
     "output_type": "execute_result"
    }
   ],
   "source": [
    "df.nlargest(10, ['Overall_rating'])"
   ]
  },
  {
   "cell_type": "code",
   "execution_count": null,
   "id": "7f7842d7-ad1f-445c-97a9-71c46e9a9251",
   "metadata": {},
   "outputs": [],
   "source": []
  },
  {
   "cell_type": "code",
   "execution_count": 66,
   "id": "e7a52e7a-fb0a-4068-a109-64fd72ddc64e",
   "metadata": {},
   "outputs": [],
   "source": [
    "#df.drop('Best_overall',axis=1,inplace=True)"
   ]
  },
  {
   "cell_type": "code",
   "execution_count": 145,
   "id": "5e2e1d4b-1fcc-4c8e-abc1-c9d6deb1e8da",
   "metadata": {},
   "outputs": [
    {
     "data": {
      "text/plain": [
       "Index(['Best_overall', 'Overall_rating', 'Potential', 'Age', 'Value'], dtype='object')"
      ]
     },
     "execution_count": 145,
     "metadata": {},
     "output_type": "execute_result"
    }
   ],
   "source": [
    "df.columns"
   ]
  },
  {
   "cell_type": "code",
   "execution_count": null,
   "id": "c1835a9a-36c1-431b-b1ae-fe305ee5158c",
   "metadata": {},
   "outputs": [],
   "source": []
  },
  {
   "cell_type": "code",
   "execution_count": 146,
   "id": "ab74e45b",
   "metadata": {},
   "outputs": [],
   "source": [
    "x = df[['Overall_rating', 'Potential', 'Age','Best_overall']]\n",
    "y = df['Value']"
   ]
  },
  {
   "cell_type": "code",
   "execution_count": 147,
   "id": "0305fce2",
   "metadata": {},
   "outputs": [],
   "source": [
    "x_train,x_test,y_train,y_test = train_test_split(x,y,test_size=0.2,random_state=42)"
   ]
  },
  {
   "cell_type": "code",
   "execution_count": null,
   "id": "d884a36b",
   "metadata": {},
   "outputs": [],
   "source": []
  },
  {
   "cell_type": "code",
   "execution_count": 148,
   "id": "8da654de",
   "metadata": {},
   "outputs": [],
   "source": [
    "#DecisionTreeRegressor"
   ]
  },
  {
   "cell_type": "code",
   "execution_count": 149,
   "id": "e510c8d7",
   "metadata": {},
   "outputs": [
    {
     "name": "stdout",
     "output_type": "stream",
     "text": [
      "0.9650196632399883\n",
      "0.9999999369866371\n"
     ]
    }
   ],
   "source": [
    "d = DecisionTreeRegressor(random_state=42).fit(x_train,y_train)\n",
    "p = d.predict(x_test)\n",
    "p1 = d.predict(x_train)\n",
    "print(r2_score(p,y_test))\n",
    "\n",
    "print(r2_score(p1,y_train))"
   ]
  },
  {
   "cell_type": "code",
   "execution_count": 150,
   "id": "e7f20272",
   "metadata": {},
   "outputs": [],
   "source": [
    "#RandomForestRegressor"
   ]
  },
  {
   "cell_type": "code",
   "execution_count": 151,
   "id": "9abf1d0d",
   "metadata": {},
   "outputs": [
    {
     "name": "stdout",
     "output_type": "stream",
     "text": [
      "0.9782815900533279\n",
      "0.996142719193627\n"
     ]
    }
   ],
   "source": [
    "r = RandomForestRegressor(n_estimators=100,random_state=42).fit(x_train,y_train)\n",
    "pr = r.predict(x_test)\n",
    "pr1 = r.predict(x_train)\n",
    "print(r2_score(pr,y_test))\n",
    "print(r2_score(pr1,y_train))"
   ]
  },
  {
   "cell_type": "code",
   "execution_count": 152,
   "id": "c96450ea-5181-4792-8b9f-1dbc92b96f64",
   "metadata": {},
   "outputs": [
    {
     "data": {
      "text/html": [
       "<div>\n",
       "<style scoped>\n",
       "    .dataframe tbody tr th:only-of-type {\n",
       "        vertical-align: middle;\n",
       "    }\n",
       "\n",
       "    .dataframe tbody tr th {\n",
       "        vertical-align: top;\n",
       "    }\n",
       "\n",
       "    .dataframe thead th {\n",
       "        text-align: right;\n",
       "    }\n",
       "</style>\n",
       "<table border=\"1\" class=\"dataframe\">\n",
       "  <thead>\n",
       "    <tr style=\"text-align: right;\">\n",
       "      <th></th>\n",
       "      <th>Best_overall</th>\n",
       "      <th>Overall_rating</th>\n",
       "      <th>Potential</th>\n",
       "      <th>Age</th>\n",
       "      <th>Value</th>\n",
       "    </tr>\n",
       "  </thead>\n",
       "  <tbody>\n",
       "    <tr>\n",
       "      <th>0</th>\n",
       "      <td>83</td>\n",
       "      <td>81</td>\n",
       "      <td>90</td>\n",
       "      <td>19</td>\n",
       "      <td>55500000.0</td>\n",
       "    </tr>\n",
       "    <tr>\n",
       "      <th>1</th>\n",
       "      <td>79</td>\n",
       "      <td>77</td>\n",
       "      <td>86</td>\n",
       "      <td>21</td>\n",
       "      <td>23500000.0</td>\n",
       "    </tr>\n",
       "    <tr>\n",
       "      <th>2</th>\n",
       "      <td>76</td>\n",
       "      <td>74</td>\n",
       "      <td>84</td>\n",
       "      <td>21</td>\n",
       "      <td>9500000.0</td>\n",
       "    </tr>\n",
       "    <tr>\n",
       "      <th>3</th>\n",
       "      <td>75</td>\n",
       "      <td>74</td>\n",
       "      <td>84</td>\n",
       "      <td>21</td>\n",
       "      <td>9500000.0</td>\n",
       "    </tr>\n",
       "    <tr>\n",
       "      <th>4</th>\n",
       "      <td>74</td>\n",
       "      <td>73</td>\n",
       "      <td>88</td>\n",
       "      <td>18</td>\n",
       "      <td>7000000.0</td>\n",
       "    </tr>\n",
       "  </tbody>\n",
       "</table>\n",
       "</div>"
      ],
      "text/plain": [
       "   Best_overall  Overall_rating  Potential  Age       Value\n",
       "0            83              81         90   19  55500000.0\n",
       "1            79              77         86   21  23500000.0\n",
       "2            76              74         84   21   9500000.0\n",
       "3            75              74         84   21   9500000.0\n",
       "4            74              73         88   18   7000000.0"
      ]
     },
     "execution_count": 152,
     "metadata": {},
     "output_type": "execute_result"
    }
   ],
   "source": [
    "df.head()"
   ]
  },
  {
   "cell_type": "code",
   "execution_count": 153,
   "id": "c27ed6c4-d857-4cfa-a02b-96d80d1d66e8",
   "metadata": {},
   "outputs": [
    {
     "data": {
      "text/plain": [
       "array([1072300.])"
      ]
     },
     "execution_count": 153,
     "metadata": {},
     "output_type": "execute_result"
    }
   ],
   "source": [
    "r.predict([[79,77,86,21]])"
   ]
  },
  {
   "cell_type": "code",
   "execution_count": 13,
   "id": "f88e2987",
   "metadata": {},
   "outputs": [],
   "source": [
    "#XGBRegressor"
   ]
  },
  {
   "cell_type": "code",
   "execution_count": 154,
   "id": "e590d05c",
   "metadata": {},
   "outputs": [
    {
     "name": "stdout",
     "output_type": "stream",
     "text": [
      "0.9611540345541073\n",
      "0.9996764097027615\n"
     ]
    }
   ],
   "source": [
    "x = XGBRegressor().fit(x_train,y_train)\n",
    "px = x.predict(x_test)\n",
    "px1 = x.predict(x_train)\n",
    "print(r2_score(px,y_test))\n",
    "print(r2_score(px1,y_train))"
   ]
  },
  {
   "cell_type": "code",
   "execution_count": null,
   "id": "f0414a92-9d34-43d6-867c-002c250dba94",
   "metadata": {},
   "outputs": [],
   "source": []
  },
  {
   "cell_type": "code",
   "execution_count": 21,
   "id": "ef30d770",
   "metadata": {},
   "outputs": [],
   "source": [
    "#import pickle"
   ]
  },
  {
   "cell_type": "code",
   "execution_count": 22,
   "id": "5506370b",
   "metadata": {},
   "outputs": [],
   "source": [
    "#pickle.dump(r,open('model_Random.pkl', 'wb'))"
   ]
  },
  {
   "cell_type": "code",
   "execution_count": null,
   "id": "f4b45b4b-fff7-428d-83d0-31728d50aa70",
   "metadata": {},
   "outputs": [],
   "source": []
  }
 ],
 "metadata": {
  "kernelspec": {
   "display_name": "Python 3 (ipykernel)",
   "language": "python",
   "name": "python3"
  },
  "language_info": {
   "codemirror_mode": {
    "name": "ipython",
    "version": 3
   },
   "file_extension": ".py",
   "mimetype": "text/x-python",
   "name": "python",
   "nbconvert_exporter": "python",
   "pygments_lexer": "ipython3",
   "version": "3.10.5"
  }
 },
 "nbformat": 4,
 "nbformat_minor": 5
}
