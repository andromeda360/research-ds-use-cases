{
 "cells": [
  {
   "cell_type": "markdown",
   "id": "2db6d656",
   "metadata": {},
   "source": [
    "## NORMALIZING THE DATA"
   ]
  },
  {
   "cell_type": "code",
   "execution_count": 18,
   "id": "87aa7de4",
   "metadata": {},
   "outputs": [],
   "source": [
    "#x_train =Normalizer().fit_transform(x_train)\n",
    "#x_test =Normalizer().fit_transform(x_test)"
   ]
  },
  {
   "cell_type": "code",
   "execution_count": 19,
   "id": "f82f86af",
   "metadata": {},
   "outputs": [],
   "source": [
    "x_train =x_train/255\n",
    "x_test = x_test/255"
   ]
  },
  {
   "cell_type": "code",
   "execution_count": 20,
   "id": "938573aa",
   "metadata": {},
   "outputs": [
    {
     "name": "stdout",
     "output_type": "stream",
     "text": [
      "[[[1. 1. 1. ... 1. 1. 1.]\n",
      "  [1. 1. 1. ... 1. 1. 1.]\n",
      "  [1. 1. 1. ... 1. 1. 1.]\n",
      "  ...\n",
      "  [1. 1. 1. ... 1. 1. 1.]\n",
      "  [1. 1. 1. ... 1. 1. 1.]\n",
      "  [1. 1. 1. ... 1. 1. 1.]]\n",
      "\n",
      " [[1. 1. 1. ... 1. 1. 1.]\n",
      "  [1. 1. 1. ... 1. 1. 1.]\n",
      "  [1. 1. 1. ... 1. 1. 1.]\n",
      "  ...\n",
      "  [1. 1. 1. ... 1. 1. 1.]\n",
      "  [1. 1. 1. ... 1. 1. 1.]\n",
      "  [1. 1. 1. ... 1. 1. 1.]]\n",
      "\n",
      " [[1. 1. 1. ... 1. 1. 1.]\n",
      "  [1. 1. 1. ... 1. 1. 1.]\n",
      "  [1. 1. 1. ... 1. 1. 1.]\n",
      "  ...\n",
      "  [1. 1. 1. ... 1. 1. 1.]\n",
      "  [1. 1. 1. ... 1. 1. 1.]\n",
      "  [1. 1. 1. ... 1. 1. 1.]]\n",
      "\n",
      " ...\n",
      "\n",
      " [[1. 1. 1. ... 1. 0. 0.]\n",
      "  [1. 1. 1. ... 1. 0. 0.]\n",
      "  [1. 1. 1. ... 1. 0. 0.]\n",
      "  ...\n",
      "  [1. 1. 1. ... 1. 1. 1.]\n",
      "  [1. 1. 1. ... 1. 1. 1.]\n",
      "  [1. 1. 1. ... 1. 1. 1.]]\n",
      "\n",
      " [[1. 1. 1. ... 1. 1. 1.]\n",
      "  [1. 1. 1. ... 1. 1. 1.]\n",
      "  [1. 1. 1. ... 1. 1. 1.]\n",
      "  ...\n",
      "  [1. 1. 1. ... 1. 1. 1.]\n",
      "  [1. 1. 1. ... 1. 1. 1.]\n",
      "  [1. 1. 1. ... 1. 1. 1.]]\n",
      "\n",
      " [[1. 1. 1. ... 1. 0. 0.]\n",
      "  [1. 1. 1. ... 1. 0. 0.]\n",
      "  [1. 1. 1. ... 1. 0. 0.]\n",
      "  ...\n",
      "  [1. 1. 1. ... 1. 1. 1.]\n",
      "  [1. 1. 1. ... 1. 1. 1.]\n",
      "  [1. 1. 1. ... 1. 1. 1.]]]\n"
     ]
    }
   ],
   "source": [
    "print(x_train)"
   ]
  },
  {
   "cell_type": "code",
   "execution_count": 21,
   "id": "59792e8c",
   "metadata": {},
   "outputs": [
    {
     "name": "stdout",
     "output_type": "stream",
     "text": [
      "['B' 'B' 'A' 'A' 'B' 'A' 'C' 'A' 'A' 'A' 'C' 'B' 'A' 'B' 'A' 'A' 'A' 'A'\n",
      " 'A' 'B' 'B' 'A' 'C' 'C' 'B' 'C' 'C' 'A' 'C' 'C' 'C' 'C' 'A' 'A' 'C' 'C'\n",
      " 'A' 'C' 'B' 'A' 'C' 'C' 'C' 'B' 'C' 'B' 'A' 'A' 'A' 'A' 'C' 'B' 'B' 'C'\n",
      " 'A' 'C' 'C' 'B' 'A' 'B' 'B' 'A' 'A' 'B' 'A' 'A' 'C' 'B' 'C' 'C' 'B' 'B'\n",
      " 'B' 'B' 'A' 'A' 'A' 'C' 'C' 'B' 'B' 'A' 'B' 'A' 'C' 'A' 'C' 'A' 'A' 'A'\n",
      " 'A' 'B' 'C' 'C' 'A' 'B' 'A' 'C' 'C' 'A' 'B' 'B' 'C' 'A' 'B' 'A' 'C' 'B'\n",
      " 'A' 'B' 'C' 'B' 'C' 'B' 'A' 'C' 'B' 'B' 'A' 'C' 'A' 'C' 'A' 'C' 'B' 'B'\n",
      " 'A' 'C' 'C' 'A' 'A' 'B' 'C' 'A' 'C' 'C' 'A' 'C' 'B' 'A' 'A' 'C' 'C' 'B'\n",
      " 'C' 'B' 'A' 'B' 'C' 'C' 'B' 'C' 'B' 'B' 'B' 'C' 'C' 'A' 'A' 'B' 'A' 'C'\n",
      " 'C' 'C' 'A' 'A' 'C' 'C' 'A' 'B' 'A' 'B' 'B' 'B' 'B' 'C' 'B' 'A' 'A' 'A'\n",
      " 'C' 'B' 'A' 'A' 'B' 'C' 'C' 'A' 'B' 'B' 'B' 'A' 'A' 'C' 'B' 'C' 'B' 'A'\n",
      " 'B' 'A' 'B' 'C' 'A' 'B' 'B' 'A' 'A' 'B' 'A' 'A' 'B' 'B' 'C' 'A' 'C' 'A'\n",
      " 'C' 'B' 'C' 'A' 'B' 'C' 'A' 'C' 'B' 'B' 'A' 'B' 'A' 'C' 'C' 'B' 'C' 'B'\n",
      " 'B' 'C' 'B' 'B' 'C' 'C' 'A' 'B' 'C' 'A' 'C' 'C' 'B' 'B' 'A' 'A' 'B' 'B'\n",
      " 'B' 'C' 'B' 'B' 'B' 'C' 'C' 'A' 'A' 'A' 'A' 'A' 'B' 'A' 'B' 'B' 'C' 'A'\n",
      " 'C' 'A' 'B' 'C' 'B' 'A' 'B' 'B' 'C' 'A' 'A' 'B' 'A' 'B' 'B' 'C' 'C' 'B'\n",
      " 'A' 'A' 'B' 'B' 'C' 'C' 'A' 'A' 'A' 'C' 'B' 'B' 'B' 'C' 'C' 'C' 'C' 'B'\n",
      " 'A' 'C' 'A' 'A' 'C' 'C' 'B' 'B' 'B' 'B' 'A' 'B' 'B' 'B' 'C' 'C' 'B' 'B'\n",
      " 'C' 'C' 'B' 'C' 'A' 'A' 'A' 'A' 'A' 'A' 'C' 'A' 'B' 'C' 'A' 'C' 'A' 'A'\n",
      " 'C' 'C' 'A' 'A' 'B' 'A' 'C' 'C' 'B' 'C' 'C' 'A' 'C' 'C' 'A' 'C' 'C' 'A'\n",
      " 'B' 'B' 'C' 'B' 'C' 'B' 'C' 'A' 'B' 'A' 'B' 'B' 'C' 'C' 'A' 'B' 'C' 'A'\n",
      " 'A' 'C' 'C' 'A' 'A' 'B' 'A' 'A' 'A' 'C' 'B' 'B' 'C' 'A' 'C' 'C' 'B' 'C'\n",
      " 'B' 'C' 'B' 'A' 'A' 'B' 'B' 'A' 'A' 'A' 'B' 'C' 'C' 'A' 'A' 'B' 'B' 'A'\n",
      " 'C' 'A' 'B' 'C' 'C' 'C' 'C' 'A' 'A' 'C' 'A' 'B' 'B' 'B' 'A' 'B' 'C' 'B'\n",
      " 'B' 'B' 'A' 'A' 'B' 'A' 'B' 'B' 'B' 'C' 'B' 'A' 'B' 'C' 'C' 'C' 'C' 'A'\n",
      " 'C' 'B' 'A' 'C' 'C' 'B' 'C' 'B' 'B' 'B' 'A' 'A' 'B' 'C' 'C' 'A' 'B' 'A'\n",
      " 'A' 'C' 'C' 'B' 'B' 'C' 'B' 'C' 'B' 'A' 'A' 'C' 'C' 'B' 'A' 'A' 'A' 'B'\n",
      " 'B' 'A' 'A' 'C' 'B' 'C' 'C' 'C' 'C' 'A' 'A' 'B' 'A' 'B' 'B' 'B' 'A' 'C'\n",
      " 'C' 'B' 'C' 'C' 'A' 'B' 'B' 'C' 'B' 'B' 'C' 'C' 'C' 'B' 'C' 'B' 'C' 'B'\n",
      " 'C' 'A' 'C' 'A' 'B' 'B' 'A' 'C' 'A' 'B' 'C' 'B' 'B' 'B' 'C' 'B' 'A' 'A'\n",
      " 'C' 'B' 'A' 'C' 'B' 'B' 'C' 'B' 'A' 'C' 'B' 'C' 'C' 'A' 'C' 'B' 'B' 'C'\n",
      " 'C' 'C' 'C' 'A' 'A' 'B' 'C' 'A' 'A' 'B' 'A' 'C' 'C' 'A' 'A' 'C' 'B' 'C'\n",
      " 'C' 'A' 'B' 'B' 'C' 'B' 'A' 'B' 'B' 'A' 'B' 'B' 'B' 'C' 'C' 'A' 'B' 'C'\n",
      " 'A' 'B' 'B' 'C' 'B' 'A' 'A' 'C' 'C' 'C' 'B' 'A' 'C' 'A' 'B' 'A' 'C' 'B'\n",
      " 'C' 'A' 'C' 'B' 'B' 'C' 'B' 'C' 'C' 'A' 'C' 'C' 'A' 'A' 'C' 'C' 'C' 'C'\n",
      " 'A' 'B' 'B' 'B' 'B' 'A' 'C' 'B' 'B' 'A' 'B' 'A' 'B' 'B' 'B' 'C' 'A' 'B'\n",
      " 'C' 'B' 'A' 'A' 'C' 'C' 'C' 'C' 'B' 'B' 'A' 'A' 'A' 'B' 'B' 'A' 'A' 'C'\n",
      " 'C' 'B' 'B' 'C' 'A' 'B' 'C' 'B' 'C' 'B' 'C' 'C' 'A' 'A' 'C' 'C' 'A' 'B'\n",
      " 'A' 'A' 'C' 'A' 'B' 'B' 'C' 'B' 'B' 'A' 'B' 'B' 'C' 'C' 'A' 'B' 'C' 'B'\n",
      " 'C' 'A' 'A' 'C' 'A' 'C' 'A' 'B' 'B' 'B' 'C' 'C' 'A' 'B' 'B' 'A' 'C' 'B'\n",
      " 'B' 'A' 'C' 'B' 'A' 'B' 'A' 'A' 'B' 'B' 'C' 'C' 'A' 'B' 'A' 'B' 'A' 'B'\n",
      " 'B' 'A' 'A' 'C' 'B' 'A' 'A' 'A' 'C' 'B' 'A' 'A' 'B' 'C' 'C' 'C' 'A' 'B'\n",
      " 'B' 'A' 'C' 'B' 'B' 'B' 'C' 'A' 'C' 'B' 'A' 'C' 'C' 'C' 'A' 'A' 'A' 'B'\n",
      " 'C' 'C' 'B' 'C' 'A' 'A' 'A' 'C' 'A' 'C' 'C' 'B' 'A' 'A' 'C' 'A' 'C' 'C'\n",
      " 'A' 'C' 'C' 'B' 'A' 'B' 'B' 'B' 'C' 'C' 'B' 'C' 'B' 'C' 'A' 'C' 'A' 'C'\n",
      " 'C' 'A' 'A' 'B' 'B' 'B' 'B' 'B' 'A' 'C' 'A' 'A' 'A' 'B' 'A' 'C' 'A' 'A'\n",
      " 'C' 'C' 'B' 'A' 'A' 'B' 'C' 'A' 'B' 'A' 'A' 'C' 'A' 'B' 'A' 'A' 'B' 'B'\n",
      " 'B' 'A' 'A' 'C' 'C' 'A' 'C' 'A' 'B' 'A' 'C' 'B' 'A' 'B' 'C' 'B' 'C' 'A'\n",
      " 'A' 'C' 'A' 'C' 'A' 'B' 'B' 'A' 'B' 'C' 'B' 'C' 'B' 'C' 'C' 'B' 'A' 'C'\n",
      " 'A' 'B' 'B' 'B' 'A' 'A' 'A' 'C' 'C' 'B' 'A' 'C' 'C' 'B' 'A' 'A' 'B' 'B'\n",
      " 'B' 'C' 'A' 'A' 'A' 'A' 'A' 'C' 'B' 'C' 'B' 'B' 'A' 'B' 'A' 'A' 'C' 'A'\n",
      " 'B' 'C' 'B' 'C' 'C' 'A' 'C' 'A' 'B' 'B' 'A' 'C' 'B' 'C' 'A' 'B' 'A' 'C'\n",
      " 'B' 'C' 'C' 'C' 'C' 'A' 'C' 'A' 'C' 'C' 'C' 'C' 'C' 'A' 'A' 'A' 'B' 'A'\n",
      " 'A' 'B' 'B' 'C' 'A' 'A' 'B' 'A']\n"
     ]
    }
   ],
   "source": [
    "print(y_train)"
   ]
  },
  {
   "cell_type": "code",
   "execution_count": 22,
   "id": "cfaa649c",
   "metadata": {},
   "outputs": [],
   "source": [
    "#x_train = x_train.reshape(120, 224*224*3)\n",
    "#x_test = x_test.reshape(30,224*224*3 )"
   ]
  },
  {
   "cell_type": "code",
   "execution_count": 23,
   "id": "c7e198f2",
   "metadata": {},
   "outputs": [],
   "source": [
    "x_train = x_train.reshape(962,224,224,1)\n",
    "x_test =x_test.reshape(241,224,224,1)"
   ]
  },
  {
   "cell_type": "code",
   "execution_count": 24,
   "id": "edbacb64",
   "metadata": {},
   "outputs": [
    {
     "data": {
      "text/plain": [
       "(241, 224, 224, 1)"
      ]
     },
     "execution_count": 24,
     "metadata": {},
     "output_type": "execute_result"
    }
   ],
   "source": [
    "x_test.shape"
   ]
  },
  {
   "cell_type": "code",
   "execution_count": 25,
   "id": "445fc8d9",
   "metadata": {},
   "outputs": [
    {
     "data": {
      "text/plain": [
       "4"
      ]
     },
     "execution_count": 25,
     "metadata": {},
     "output_type": "execute_result"
    }
   ],
   "source": [
    "x_train.ndim"
   ]
  },
  {
   "cell_type": "code",
   "execution_count": 26,
   "id": "11915815",
   "metadata": {},
   "outputs": [
    {
     "data": {
      "text/plain": [
       "array(['B', 'B', 'A', 'A', 'B', 'A', 'C', 'A', 'A', 'A', 'C', 'B', 'A',\n",
       "       'B', 'A', 'A', 'A', 'A', 'A', 'B', 'B', 'A', 'C', 'C', 'B', 'C',\n",
       "       'C', 'A', 'C', 'C', 'C', 'C', 'A', 'A', 'C', 'C', 'A', 'C', 'B',\n",
       "       'A', 'C', 'C', 'C', 'B', 'C', 'B', 'A', 'A', 'A', 'A', 'C', 'B',\n",
       "       'B', 'C', 'A', 'C', 'C', 'B', 'A', 'B', 'B', 'A', 'A', 'B', 'A',\n",
       "       'A', 'C', 'B', 'C', 'C', 'B', 'B', 'B', 'B', 'A', 'A', 'A', 'C',\n",
       "       'C', 'B', 'B', 'A', 'B', 'A', 'C', 'A', 'C', 'A', 'A', 'A', 'A',\n",
       "       'B', 'C', 'C', 'A', 'B', 'A', 'C', 'C', 'A', 'B', 'B', 'C', 'A',\n",
       "       'B', 'A', 'C', 'B', 'A', 'B', 'C', 'B', 'C', 'B', 'A', 'C', 'B',\n",
       "       'B', 'A', 'C', 'A', 'C', 'A', 'C', 'B', 'B', 'A', 'C', 'C', 'A',\n",
       "       'A', 'B', 'C', 'A', 'C', 'C', 'A', 'C', 'B', 'A', 'A', 'C', 'C',\n",
       "       'B', 'C', 'B', 'A', 'B', 'C', 'C', 'B', 'C', 'B', 'B', 'B', 'C',\n",
       "       'C', 'A', 'A', 'B', 'A', 'C', 'C', 'C', 'A', 'A', 'C', 'C', 'A',\n",
       "       'B', 'A', 'B', 'B', 'B', 'B', 'C', 'B', 'A', 'A', 'A', 'C', 'B',\n",
       "       'A', 'A', 'B', 'C', 'C', 'A', 'B', 'B', 'B', 'A', 'A', 'C', 'B',\n",
       "       'C', 'B', 'A', 'B', 'A', 'B', 'C', 'A', 'B', 'B', 'A', 'A', 'B',\n",
       "       'A', 'A', 'B', 'B', 'C', 'A', 'C', 'A', 'C', 'B', 'C', 'A', 'B',\n",
       "       'C', 'A', 'C', 'B', 'B', 'A', 'B', 'A', 'C', 'C', 'B', 'C', 'B',\n",
       "       'B', 'C', 'B', 'B', 'C', 'C', 'A', 'B', 'C', 'A', 'C', 'C', 'B',\n",
       "       'B', 'A', 'A', 'B', 'B', 'B', 'C', 'B', 'B', 'B', 'C', 'C', 'A',\n",
       "       'A', 'A', 'A', 'A', 'B', 'A', 'B', 'B', 'C', 'A', 'C', 'A', 'B',\n",
       "       'C', 'B', 'A', 'B', 'B', 'C', 'A', 'A', 'B', 'A', 'B', 'B', 'C',\n",
       "       'C', 'B', 'A', 'A', 'B', 'B', 'C', 'C', 'A', 'A', 'A', 'C', 'B',\n",
       "       'B', 'B', 'C', 'C', 'C', 'C', 'B', 'A', 'C', 'A', 'A', 'C', 'C',\n",
       "       'B', 'B', 'B', 'B', 'A', 'B', 'B', 'B', 'C', 'C', 'B', 'B', 'C',\n",
       "       'C', 'B', 'C', 'A', 'A', 'A', 'A', 'A', 'A', 'C', 'A', 'B', 'C',\n",
       "       'A', 'C', 'A', 'A', 'C', 'C', 'A', 'A', 'B', 'A', 'C', 'C', 'B',\n",
       "       'C', 'C', 'A', 'C', 'C', 'A', 'C', 'C', 'A', 'B', 'B', 'C', 'B',\n",
       "       'C', 'B', 'C', 'A', 'B', 'A', 'B', 'B', 'C', 'C', 'A', 'B', 'C',\n",
       "       'A', 'A', 'C', 'C', 'A', 'A', 'B', 'A', 'A', 'A', 'C', 'B', 'B',\n",
       "       'C', 'A', 'C', 'C', 'B', 'C', 'B', 'C', 'B', 'A', 'A', 'B', 'B',\n",
       "       'A', 'A', 'A', 'B', 'C', 'C', 'A', 'A', 'B', 'B', 'A', 'C', 'A',\n",
       "       'B', 'C', 'C', 'C', 'C', 'A', 'A', 'C', 'A', 'B', 'B', 'B', 'A',\n",
       "       'B', 'C', 'B', 'B', 'B', 'A', 'A', 'B', 'A', 'B', 'B', 'B', 'C',\n",
       "       'B', 'A', 'B', 'C', 'C', 'C', 'C', 'A', 'C', 'B', 'A', 'C', 'C',\n",
       "       'B', 'C', 'B', 'B', 'B', 'A', 'A', 'B', 'C', 'C', 'A', 'B', 'A',\n",
       "       'A', 'C', 'C', 'B', 'B', 'C', 'B', 'C', 'B', 'A', 'A', 'C', 'C',\n",
       "       'B', 'A', 'A', 'A', 'B', 'B', 'A', 'A', 'C', 'B', 'C', 'C', 'C',\n",
       "       'C', 'A', 'A', 'B', 'A', 'B', 'B', 'B', 'A', 'C', 'C', 'B', 'C',\n",
       "       'C', 'A', 'B', 'B', 'C', 'B', 'B', 'C', 'C', 'C', 'B', 'C', 'B',\n",
       "       'C', 'B', 'C', 'A', 'C', 'A', 'B', 'B', 'A', 'C', 'A', 'B', 'C',\n",
       "       'B', 'B', 'B', 'C', 'B', 'A', 'A', 'C', 'B', 'A', 'C', 'B', 'B',\n",
       "       'C', 'B', 'A', 'C', 'B', 'C', 'C', 'A', 'C', 'B', 'B', 'C', 'C',\n",
       "       'C', 'C', 'A', 'A', 'B', 'C', 'A', 'A', 'B', 'A', 'C', 'C', 'A',\n",
       "       'A', 'C', 'B', 'C', 'C', 'A', 'B', 'B', 'C', 'B', 'A', 'B', 'B',\n",
       "       'A', 'B', 'B', 'B', 'C', 'C', 'A', 'B', 'C', 'A', 'B', 'B', 'C',\n",
       "       'B', 'A', 'A', 'C', 'C', 'C', 'B', 'A', 'C', 'A', 'B', 'A', 'C',\n",
       "       'B', 'C', 'A', 'C', 'B', 'B', 'C', 'B', 'C', 'C', 'A', 'C', 'C',\n",
       "       'A', 'A', 'C', 'C', 'C', 'C', 'A', 'B', 'B', 'B', 'B', 'A', 'C',\n",
       "       'B', 'B', 'A', 'B', 'A', 'B', 'B', 'B', 'C', 'A', 'B', 'C', 'B',\n",
       "       'A', 'A', 'C', 'C', 'C', 'C', 'B', 'B', 'A', 'A', 'A', 'B', 'B',\n",
       "       'A', 'A', 'C', 'C', 'B', 'B', 'C', 'A', 'B', 'C', 'B', 'C', 'B',\n",
       "       'C', 'C', 'A', 'A', 'C', 'C', 'A', 'B', 'A', 'A', 'C', 'A', 'B',\n",
       "       'B', 'C', 'B', 'B', 'A', 'B', 'B', 'C', 'C', 'A', 'B', 'C', 'B',\n",
       "       'C', 'A', 'A', 'C', 'A', 'C', 'A', 'B', 'B', 'B', 'C', 'C', 'A',\n",
       "       'B', 'B', 'A', 'C', 'B', 'B', 'A', 'C', 'B', 'A', 'B', 'A', 'A',\n",
       "       'B', 'B', 'C', 'C', 'A', 'B', 'A', 'B', 'A', 'B', 'B', 'A', 'A',\n",
       "       'C', 'B', 'A', 'A', 'A', 'C', 'B', 'A', 'A', 'B', 'C', 'C', 'C',\n",
       "       'A', 'B', 'B', 'A', 'C', 'B', 'B', 'B', 'C', 'A', 'C', 'B', 'A',\n",
       "       'C', 'C', 'C', 'A', 'A', 'A', 'B', 'C', 'C', 'B', 'C', 'A', 'A',\n",
       "       'A', 'C', 'A', 'C', 'C', 'B', 'A', 'A', 'C', 'A', 'C', 'C', 'A',\n",
       "       'C', 'C', 'B', 'A', 'B', 'B', 'B', 'C', 'C', 'B', 'C', 'B', 'C',\n",
       "       'A', 'C', 'A', 'C', 'C', 'A', 'A', 'B', 'B', 'B', 'B', 'B', 'A',\n",
       "       'C', 'A', 'A', 'A', 'B', 'A', 'C', 'A', 'A', 'C', 'C', 'B', 'A',\n",
       "       'A', 'B', 'C', 'A', 'B', 'A', 'A', 'C', 'A', 'B', 'A', 'A', 'B',\n",
       "       'B', 'B', 'A', 'A', 'C', 'C', 'A', 'C', 'A', 'B', 'A', 'C', 'B',\n",
       "       'A', 'B', 'C', 'B', 'C', 'A', 'A', 'C', 'A', 'C', 'A', 'B', 'B',\n",
       "       'A', 'B', 'C', 'B', 'C', 'B', 'C', 'C', 'B', 'A', 'C', 'A', 'B',\n",
       "       'B', 'B', 'A', 'A', 'A', 'C', 'C', 'B', 'A', 'C', 'C', 'B', 'A',\n",
       "       'A', 'B', 'B', 'B', 'C', 'A', 'A', 'A', 'A', 'A', 'C', 'B', 'C',\n",
       "       'B', 'B', 'A', 'B', 'A', 'A', 'C', 'A', 'B', 'C', 'B', 'C', 'C',\n",
       "       'A', 'C', 'A', 'B', 'B', 'A', 'C', 'B', 'C', 'A', 'B', 'A', 'C',\n",
       "       'B', 'C', 'C', 'C', 'C', 'A', 'C', 'A', 'C', 'C', 'C', 'C', 'C',\n",
       "       'A', 'A', 'A', 'B', 'A', 'A', 'B', 'B', 'C', 'A', 'A', 'B', 'A'],\n",
       "      dtype='<U1')"
      ]
     },
     "execution_count": 26,
     "metadata": {},
     "output_type": "execute_result"
    }
   ],
   "source": [
    "y_train"
   ]
  },
  {
   "cell_type": "code",
   "execution_count": 27,
   "id": "cf1c1b76",
   "metadata": {},
   "outputs": [],
   "source": [
    "#x_train.reshape()"
   ]
  },
  {
   "cell_type": "code",
   "execution_count": 28,
   "id": "1b8ba5e3",
   "metadata": {},
   "outputs": [],
   "source": [
    "#x_train =Normalizer().fit_transform(x_train)\n",
    "#x_test =Normalizer().fit_transform(x_test)"
   ]
  },
  {
   "cell_type": "code",
   "execution_count": 29,
   "id": "d85f110a",
   "metadata": {},
   "outputs": [
    {
     "data": {
      "text/plain": [
       "1.0"
      ]
     },
     "execution_count": 29,
     "metadata": {},
     "output_type": "execute_result"
    }
   ],
   "source": [
    "x_train[0].max()"
   ]
  },
  {
   "cell_type": "code",
   "execution_count": 30,
   "id": "7968f568",
   "metadata": {},
   "outputs": [],
   "source": [
    "lb = preprocessing.LabelBinarizer()\n",
    "y_train =lb.fit_transform(y_train)\n",
    "y_test =lb.fit_transform(y_test)"
   ]
  },
  {
   "cell_type": "code",
   "execution_count": 31,
   "id": "d8bdc085",
   "metadata": {},
   "outputs": [
    {
     "data": {
      "text/plain": [
       "((241, 224, 224, 1), (241, 3))"
      ]
     },
     "execution_count": 31,
     "metadata": {},
     "output_type": "execute_result"
    }
   ],
   "source": [
    "x_test.shape,y_test.shape"
   ]
  },
  {
   "cell_type": "markdown",
   "id": "f1b8f1d8",
   "metadata": {},
   "source": [
    "## DATA GENERATOR"
   ]
  },
  {
   "cell_type": "code",
   "execution_count": 32,
   "id": "383ce8f1",
   "metadata": {},
   "outputs": [],
   "source": [
    "from keras.preprocessing.image import ImageDataGenerator\n",
    "datagen = ImageDataGenerator(\n",
    "        rotation_range=180,  # randomly rotate images in the range\n",
    "        zoom_range = 0.1, # Randomly zoom image \n",
    "        width_shift_range=0.1,  # randomly shift images horizontally\n",
    "        height_shift_range=0.1,  # randomly shift images vertically \n",
    "        horizontal_flip=True,  # randomly flip images horizontally\n",
    "        vertical_flip=True  # randomly flip images vertically\n",
    "    )  \n",
    "datagen.fit(x_train)"
   ]
  },
  {
   "cell_type": "code",
   "execution_count": null,
   "id": "06ac2c89",
   "metadata": {},
   "outputs": [],
   "source": []
  },
  {
   "cell_type": "markdown",
   "id": "0671fed4",
   "metadata": {},
   "source": [
    "## CNN MODEL"
   ]
  },
  {
   "cell_type": "code",
   "execution_count": 33,
   "id": "4de45a11",
   "metadata": {},
   "outputs": [],
   "source": [
    "#CNN\n",
    "# 1st sequential for forward and backoard propogation\n",
    "model = models.Sequential()\n",
    "#adding convolution layer\n",
    "model.add(layers.Conv2D(32, (3, 3), activation='relu', input_shape=(224, 224, 1),padding ='same'))\n",
    "#max pooling\n",
    "model.add(layers.MaxPooling2D((2, 2)))\n",
    "model.add(layers.Conv2D(32, (3, 3), activation='relu',padding ='same'))\n",
    "model.add(layers.MaxPooling2D((2, 2)))\n",
    "# Drop_out\n",
    "model.add(layers.Dropout(0.2))\n",
    "model.add(layers.Conv2D(64, (3, 3), activation='relu',padding ='same'))\n",
    "model.add(layers.MaxPooling2D((2, 2)))\n",
    "model.add(layers.Dropout(0.2))\n",
    "model.add(layers.Conv2D(128, (3, 3), activation='relu',padding ='same'))\n",
    "model.add(layers.MaxPooling2D((2, 2)))\n"
   ]
  },
  {
   "cell_type": "code",
   "execution_count": 34,
   "id": "d45cd363",
   "metadata": {},
   "outputs": [],
   "source": [
    "# now flatten \n",
    "model.add(layers.Flatten())\n",
    "# fully connected neural network\n",
    "model.add(layers.Dense(256, activation='relu'))\n",
    "#model.add(layers.Dense(200,activation='relu'))\n",
    "model.add(layers.Dense(3,activation='softmax'))"
   ]
  },
  {
   "cell_type": "code",
   "execution_count": 35,
   "id": "46640404",
   "metadata": {},
   "outputs": [
    {
     "name": "stdout",
     "output_type": "stream",
     "text": [
      "Model: \"sequential\"\n",
      "_________________________________________________________________\n",
      " Layer (type)                Output Shape              Param #   \n",
      "=================================================================\n",
      " conv2d (Conv2D)             (None, 224, 224, 32)      320       \n",
      "                                                                 \n",
      " max_pooling2d (MaxPooling2D  (None, 112, 112, 32)     0         \n",
      " )                                                               \n",
      "                                                                 \n",
      " conv2d_1 (Conv2D)           (None, 112, 112, 32)      9248      \n",
      "                                                                 \n",
      " max_pooling2d_1 (MaxPooling  (None, 56, 56, 32)       0         \n",
      " 2D)                                                             \n",
      "                                                                 \n",
      " dropout (Dropout)           (None, 56, 56, 32)        0         \n",
      "                                                                 \n",
      " conv2d_2 (Conv2D)           (None, 56, 56, 64)        18496     \n",
      "                                                                 \n",
      " max_pooling2d_2 (MaxPooling  (None, 28, 28, 64)       0         \n",
      " 2D)                                                             \n",
      "                                                                 \n",
      " dropout_1 (Dropout)         (None, 28, 28, 64)        0         \n",
      "                                                                 \n",
      " conv2d_3 (Conv2D)           (None, 28, 28, 128)       73856     \n",
      "                                                                 \n",
      " max_pooling2d_3 (MaxPooling  (None, 14, 14, 128)      0         \n",
      " 2D)                                                             \n",
      "                                                                 \n",
      " flatten (Flatten)           (None, 25088)             0         \n",
      "                                                                 \n",
      " dense (Dense)               (None, 256)               6422784   \n",
      "                                                                 \n",
      " dense_1 (Dense)             (None, 3)                 771       \n",
      "                                                                 \n",
      "=================================================================\n",
      "Total params: 6,525,475\n",
      "Trainable params: 6,525,475\n",
      "Non-trainable params: 0\n",
      "_________________________________________________________________\n"
     ]
    }
   ],
   "source": [
    "model.summary()"
   ]
  },
  {
   "cell_type": "code",
   "execution_count": 36,
   "id": "154fa4e1",
   "metadata": {},
   "outputs": [
    {
     "data": {
      "text/plain": [
       "((962, 224, 224, 1), (962, 3))"
      ]
     },
     "execution_count": 36,
     "metadata": {},
     "output_type": "execute_result"
    }
   ],
   "source": [
    "x_train.shape,y_train.shape"
   ]
  },
  {
   "cell_type": "code",
   "execution_count": 37,
   "id": "6785637d",
   "metadata": {},
   "outputs": [
    {
     "data": {
      "text/plain": [
       "((241, 224, 224, 1), (241, 3))"
      ]
     },
     "execution_count": 37,
     "metadata": {},
     "output_type": "execute_result"
    }
   ],
   "source": [
    "x_test.shape,y_test.shape"
   ]
  },
  {
   "cell_type": "code",
   "execution_count": 38,
   "id": "8d859d3d",
   "metadata": {},
   "outputs": [
    {
     "data": {
      "text/plain": [
       "array([[0, 1, 0],\n",
       "       [0, 1, 0],\n",
       "       [1, 0, 0],\n",
       "       ...,\n",
       "       [1, 0, 0],\n",
       "       [0, 1, 0],\n",
       "       [1, 0, 0]])"
      ]
     },
     "execution_count": 38,
     "metadata": {},
     "output_type": "execute_result"
    }
   ],
   "source": [
    "y_train"
   ]
  },
  {
   "cell_type": "code",
   "execution_count": 39,
   "id": "568ceb20",
   "metadata": {},
   "outputs": [
    {
     "name": "stderr",
     "output_type": "stream",
     "text": [
      "C:\\Users\\Salahuddin\\AppData\\Local\\Temp\\ipykernel_31416\\1621296704.py:5: UserWarning: `Model.fit_generator` is deprecated and will be removed in a future version. Please use `Model.fit`, which supports generators.\n",
      "  history = model.fit_generator(datagen.flow(x_train, y_train), epochs = 100, validation_data=(x_test,y_test))\n"
     ]
    },
    {
     "name": "stdout",
     "output_type": "stream",
     "text": [
      "Epoch 1/100\n",
      "31/31 [==============================] - 53s 2s/step - loss: 1.1684 - accuracy: 0.3326 - val_loss: 1.0980 - val_accuracy: 0.3320\n",
      "Epoch 2/100\n",
      "31/31 [==============================] - 52s 2s/step - loss: 1.0952 - accuracy: 0.3462 - val_loss: 1.0770 - val_accuracy: 0.3776\n",
      "Epoch 3/100\n",
      "31/31 [==============================] - 52s 2s/step - loss: 1.0199 - accuracy: 0.4563 - val_loss: 0.9390 - val_accuracy: 0.5519\n",
      "Epoch 4/100\n",
      "31/31 [==============================] - 50s 2s/step - loss: 0.8629 - accuracy: 0.5884 - val_loss: 0.8395 - val_accuracy: 0.6058\n",
      "Epoch 5/100\n",
      "31/31 [==============================] - 54s 2s/step - loss: 0.9239 - accuracy: 0.5249 - val_loss: 0.8165 - val_accuracy: 0.6224\n",
      "Epoch 6/100\n",
      "31/31 [==============================] - 55s 2s/step - loss: 0.7070 - accuracy: 0.6746 - val_loss: 0.5588 - val_accuracy: 0.7178\n",
      "Epoch 7/100\n",
      "31/31 [==============================] - 53s 2s/step - loss: 0.6623 - accuracy: 0.6954 - val_loss: 0.4238 - val_accuracy: 0.8257\n",
      "Epoch 8/100\n",
      "31/31 [==============================] - 52s 2s/step - loss: 0.5878 - accuracy: 0.7443 - val_loss: 0.4226 - val_accuracy: 0.8216\n",
      "Epoch 9/100\n",
      "31/31 [==============================] - 52s 2s/step - loss: 0.5112 - accuracy: 0.7796 - val_loss: 0.3435 - val_accuracy: 0.8797\n",
      "Epoch 10/100\n",
      "31/31 [==============================] - 54s 2s/step - loss: 0.5050 - accuracy: 0.7640 - val_loss: 0.3359 - val_accuracy: 0.8672\n",
      "Epoch 11/100\n",
      "31/31 [==============================] - 54s 2s/step - loss: 0.4539 - accuracy: 0.8046 - val_loss: 0.3265 - val_accuracy: 0.8880\n",
      "Epoch 12/100\n",
      "31/31 [==============================] - 52s 2s/step - loss: 0.3908 - accuracy: 0.8191 - val_loss: 0.2367 - val_accuracy: 0.9170\n",
      "Epoch 13/100\n",
      "31/31 [==============================] - 53s 2s/step - loss: 0.3524 - accuracy: 0.8545 - val_loss: 0.3741 - val_accuracy: 0.8299\n",
      "Epoch 14/100\n",
      "31/31 [==============================] - 56s 2s/step - loss: 0.3712 - accuracy: 0.8545 - val_loss: 0.2408 - val_accuracy: 0.9253\n",
      "Epoch 15/100\n",
      "31/31 [==============================] - 53s 2s/step - loss: 0.3814 - accuracy: 0.8534 - val_loss: 0.2379 - val_accuracy: 0.9502\n",
      "Epoch 16/100\n",
      "31/31 [==============================] - 51s 2s/step - loss: 0.3319 - accuracy: 0.8503 - val_loss: 0.3187 - val_accuracy: 0.8880\n",
      "Epoch 17/100\n",
      "31/31 [==============================] - 52s 2s/step - loss: 0.4094 - accuracy: 0.8243 - val_loss: 0.4277 - val_accuracy: 0.7967\n",
      "Epoch 18/100\n",
      "31/31 [==============================] - 51s 2s/step - loss: 0.4630 - accuracy: 0.7952 - val_loss: 0.3521 - val_accuracy: 0.8797\n",
      "Epoch 19/100\n",
      "31/31 [==============================] - 51s 2s/step - loss: 0.3094 - accuracy: 0.8628 - val_loss: 0.2090 - val_accuracy: 0.9378\n",
      "Epoch 20/100\n",
      "31/31 [==============================] - 52s 2s/step - loss: 0.2385 - accuracy: 0.9054 - val_loss: 0.2141 - val_accuracy: 0.9129\n",
      "Epoch 21/100\n",
      "31/31 [==============================] - 53s 2s/step - loss: 0.2546 - accuracy: 0.8909 - val_loss: 0.1332 - val_accuracy: 0.9585\n",
      "Epoch 22/100\n",
      "31/31 [==============================] - 53s 2s/step - loss: 0.2431 - accuracy: 0.9054 - val_loss: 0.2232 - val_accuracy: 0.9046\n",
      "Epoch 23/100\n",
      "31/31 [==============================] - 51s 2s/step - loss: 0.2170 - accuracy: 0.9168 - val_loss: 0.2596 - val_accuracy: 0.8880\n",
      "Epoch 24/100\n",
      "31/31 [==============================] - 51s 2s/step - loss: 0.1702 - accuracy: 0.9314 - val_loss: 0.1507 - val_accuracy: 0.9585\n",
      "Epoch 25/100\n",
      "31/31 [==============================] - 53s 2s/step - loss: 0.1522 - accuracy: 0.9314 - val_loss: 0.0983 - val_accuracy: 0.9627\n",
      "Epoch 26/100\n",
      "31/31 [==============================] - 50s 2s/step - loss: 0.1661 - accuracy: 0.9376 - val_loss: 0.0721 - val_accuracy: 0.9793\n",
      "Epoch 27/100\n",
      "31/31 [==============================] - 50s 2s/step - loss: 0.1483 - accuracy: 0.9449 - val_loss: 0.0882 - val_accuracy: 0.9627\n",
      "Epoch 28/100\n",
      "31/31 [==============================] - 54s 2s/step - loss: 0.1522 - accuracy: 0.9356 - val_loss: 0.0849 - val_accuracy: 0.9793\n",
      "Epoch 29/100\n",
      "31/31 [==============================] - 51s 2s/step - loss: 0.1436 - accuracy: 0.9439 - val_loss: 0.0738 - val_accuracy: 0.9793\n",
      "Epoch 30/100\n",
      "31/31 [==============================] - 53s 2s/step - loss: 0.1228 - accuracy: 0.9511 - val_loss: 0.0497 - val_accuracy: 0.9876\n",
      "Epoch 31/100\n",
      "31/31 [==============================] - 52s 2s/step - loss: 0.1330 - accuracy: 0.9584 - val_loss: 0.1552 - val_accuracy: 0.9295\n",
      "Epoch 32/100\n",
      "31/31 [==============================] - 52s 2s/step - loss: 0.1310 - accuracy: 0.9553 - val_loss: 0.1489 - val_accuracy: 0.9419\n",
      "Epoch 33/100\n",
      "31/31 [==============================] - 52s 2s/step - loss: 0.1027 - accuracy: 0.9647 - val_loss: 0.1046 - val_accuracy: 0.9502\n",
      "Epoch 34/100\n",
      "31/31 [==============================] - 52s 2s/step - loss: 0.0708 - accuracy: 0.9771 - val_loss: 0.0563 - val_accuracy: 0.9793\n",
      "Epoch 35/100\n",
      "31/31 [==============================] - 52s 2s/step - loss: 0.1058 - accuracy: 0.9584 - val_loss: 0.0295 - val_accuracy: 0.9959\n",
      "Epoch 36/100\n",
      "31/31 [==============================] - 52s 2s/step - loss: 0.0701 - accuracy: 0.9792 - val_loss: 0.0190 - val_accuracy: 0.9917\n",
      "Epoch 37/100\n",
      "31/31 [==============================] - 51s 2s/step - loss: 0.0707 - accuracy: 0.9751 - val_loss: 0.0424 - val_accuracy: 0.9834\n",
      "Epoch 38/100\n",
      "31/31 [==============================] - 52s 2s/step - loss: 0.1029 - accuracy: 0.9574 - val_loss: 0.0124 - val_accuracy: 1.0000\n",
      "Epoch 39/100\n",
      "31/31 [==============================] - 52s 2s/step - loss: 0.0879 - accuracy: 0.9719 - val_loss: 0.2260 - val_accuracy: 0.8921\n",
      "Epoch 40/100\n",
      "31/31 [==============================] - 52s 2s/step - loss: 0.0704 - accuracy: 0.9740 - val_loss: 0.0672 - val_accuracy: 0.9751\n",
      "Epoch 41/100\n",
      "31/31 [==============================] - 52s 2s/step - loss: 0.0696 - accuracy: 0.9751 - val_loss: 0.0171 - val_accuracy: 0.9959\n",
      "Epoch 42/100\n",
      "31/31 [==============================] - 52s 2s/step - loss: 0.0624 - accuracy: 0.9792 - val_loss: 0.1347 - val_accuracy: 0.9419\n",
      "Epoch 43/100\n",
      "31/31 [==============================] - 52s 2s/step - loss: 0.0578 - accuracy: 0.9782 - val_loss: 0.2597 - val_accuracy: 0.9046\n",
      "Epoch 44/100\n",
      "31/31 [==============================] - 52s 2s/step - loss: 0.0716 - accuracy: 0.9719 - val_loss: 0.0385 - val_accuracy: 0.9876\n",
      "Epoch 45/100\n",
      "31/31 [==============================] - 52s 2s/step - loss: 0.0539 - accuracy: 0.9782 - val_loss: 0.0032 - val_accuracy: 1.0000\n",
      "Epoch 46/100\n",
      "31/31 [==============================] - 52s 2s/step - loss: 0.0504 - accuracy: 0.9792 - val_loss: 0.0421 - val_accuracy: 0.9917\n",
      "Epoch 47/100\n",
      "31/31 [==============================] - 52s 2s/step - loss: 0.0697 - accuracy: 0.9730 - val_loss: 0.0074 - val_accuracy: 1.0000\n",
      "Epoch 48/100\n",
      "31/31 [==============================] - 52s 2s/step - loss: 0.0794 - accuracy: 0.9761 - val_loss: 0.0048 - val_accuracy: 1.0000\n",
      "Epoch 49/100\n",
      "31/31 [==============================] - 51s 2s/step - loss: 0.0327 - accuracy: 0.9896 - val_loss: 0.0243 - val_accuracy: 0.9917\n",
      "Epoch 50/100\n",
      "31/31 [==============================] - 48s 2s/step - loss: 0.0643 - accuracy: 0.9761 - val_loss: 0.0178 - val_accuracy: 0.9959\n",
      "Epoch 51/100\n",
      "31/31 [==============================] - 48s 2s/step - loss: 0.0661 - accuracy: 0.9730 - val_loss: 0.0286 - val_accuracy: 0.9917\n",
      "Epoch 52/100\n",
      "31/31 [==============================] - 48s 2s/step - loss: 0.0399 - accuracy: 0.9875 - val_loss: 0.0235 - val_accuracy: 0.9917\n",
      "Epoch 53/100\n",
      "31/31 [==============================] - 48s 2s/step - loss: 0.0643 - accuracy: 0.9802 - val_loss: 0.3589 - val_accuracy: 0.8672\n",
      "Epoch 54/100\n",
      "31/31 [==============================] - 48s 2s/step - loss: 0.0491 - accuracy: 0.9802 - val_loss: 0.0040 - val_accuracy: 1.0000\n",
      "Epoch 55/100\n",
      "31/31 [==============================] - 48s 2s/step - loss: 0.2088 - accuracy: 0.9345 - val_loss: 0.0443 - val_accuracy: 0.9834\n",
      "Epoch 56/100\n",
      "31/31 [==============================] - 48s 2s/step - loss: 0.1187 - accuracy: 0.9543 - val_loss: 0.0363 - val_accuracy: 0.9959\n",
      "Epoch 57/100\n",
      "31/31 [==============================] - 48s 2s/step - loss: 0.0647 - accuracy: 0.9771 - val_loss: 0.0413 - val_accuracy: 0.9834\n",
      "Epoch 58/100\n",
      "31/31 [==============================] - 48s 2s/step - loss: 0.0479 - accuracy: 0.9802 - val_loss: 0.1208 - val_accuracy: 0.9502\n",
      "Epoch 59/100\n",
      "31/31 [==============================] - 48s 2s/step - loss: 0.0832 - accuracy: 0.9730 - val_loss: 0.0096 - val_accuracy: 1.0000\n",
      "Epoch 60/100\n",
      "31/31 [==============================] - 48s 2s/step - loss: 0.0698 - accuracy: 0.9699 - val_loss: 0.0035 - val_accuracy: 1.0000\n",
      "Epoch 61/100\n",
      "31/31 [==============================] - 49s 2s/step - loss: 0.0347 - accuracy: 0.9865 - val_loss: 0.0058 - val_accuracy: 1.0000\n",
      "Epoch 62/100\n",
      "31/31 [==============================] - 51s 2s/step - loss: 0.0310 - accuracy: 0.9896 - val_loss: 0.0030 - val_accuracy: 1.0000\n",
      "Epoch 63/100\n",
      "31/31 [==============================] - 51s 2s/step - loss: 0.0584 - accuracy: 0.9761 - val_loss: 0.0276 - val_accuracy: 0.9834\n",
      "Epoch 64/100\n",
      "31/31 [==============================] - 50s 2s/step - loss: 0.0495 - accuracy: 0.9875 - val_loss: 0.0057 - val_accuracy: 1.0000\n",
      "Epoch 65/100\n",
      "31/31 [==============================] - 53s 2s/step - loss: 0.0277 - accuracy: 0.9927 - val_loss: 0.0023 - val_accuracy: 1.0000\n",
      "Epoch 66/100\n",
      "31/31 [==============================] - 52s 2s/step - loss: 0.0244 - accuracy: 0.9917 - val_loss: 0.0023 - val_accuracy: 1.0000\n",
      "Epoch 67/100\n",
      "31/31 [==============================] - 51s 2s/step - loss: 0.0316 - accuracy: 0.9875 - val_loss: 0.0062 - val_accuracy: 1.0000\n",
      "Epoch 68/100\n",
      "31/31 [==============================] - 52s 2s/step - loss: 0.0335 - accuracy: 0.9854 - val_loss: 0.0020 - val_accuracy: 1.0000\n",
      "Epoch 69/100\n",
      "31/31 [==============================] - 51s 2s/step - loss: 0.0484 - accuracy: 0.9834 - val_loss: 0.0044 - val_accuracy: 1.0000\n",
      "Epoch 70/100\n",
      "31/31 [==============================] - 51s 2s/step - loss: 0.0550 - accuracy: 0.9792 - val_loss: 0.0020 - val_accuracy: 1.0000\n",
      "Epoch 71/100\n",
      "31/31 [==============================] - 52s 2s/step - loss: 0.0267 - accuracy: 0.9875 - val_loss: 8.8756e-04 - val_accuracy: 1.0000\n",
      "Epoch 72/100\n",
      "31/31 [==============================] - 53s 2s/step - loss: 0.0453 - accuracy: 0.9834 - val_loss: 0.0103 - val_accuracy: 0.9959\n",
      "Epoch 73/100\n",
      "31/31 [==============================] - 53s 2s/step - loss: 0.0327 - accuracy: 0.9865 - val_loss: 0.0011 - val_accuracy: 1.0000\n",
      "Epoch 74/100\n",
      "31/31 [==============================] - 51s 2s/step - loss: 0.0383 - accuracy: 0.9865 - val_loss: 0.0020 - val_accuracy: 1.0000\n",
      "Epoch 75/100\n",
      "31/31 [==============================] - 50s 2s/step - loss: 0.0317 - accuracy: 0.9896 - val_loss: 7.5857e-04 - val_accuracy: 1.0000\n",
      "Epoch 76/100\n",
      "31/31 [==============================] - 51s 2s/step - loss: 0.0266 - accuracy: 0.9896 - val_loss: 0.2957 - val_accuracy: 0.9004\n",
      "Epoch 77/100\n",
      "31/31 [==============================] - 50s 2s/step - loss: 0.0694 - accuracy: 0.9730 - val_loss: 0.0108 - val_accuracy: 0.9959\n",
      "Epoch 78/100\n",
      "31/31 [==============================] - 49s 2s/step - loss: 0.0406 - accuracy: 0.9896 - val_loss: 0.0200 - val_accuracy: 0.9917\n",
      "Epoch 79/100\n",
      "31/31 [==============================] - 49s 2s/step - loss: 0.0375 - accuracy: 0.9875 - val_loss: 6.1500e-04 - val_accuracy: 1.0000\n",
      "Epoch 80/100\n",
      "31/31 [==============================] - 52s 2s/step - loss: 0.0424 - accuracy: 0.9834 - val_loss: 0.0084 - val_accuracy: 1.0000\n",
      "Epoch 81/100\n",
      "31/31 [==============================] - 52s 2s/step - loss: 0.0439 - accuracy: 0.9896 - val_loss: 0.0054 - val_accuracy: 1.0000\n",
      "Epoch 82/100\n",
      "31/31 [==============================] - 52s 2s/step - loss: 0.0490 - accuracy: 0.9792 - val_loss: 0.0550 - val_accuracy: 0.9751\n",
      "Epoch 83/100\n",
      "31/31 [==============================] - 52s 2s/step - loss: 0.0387 - accuracy: 0.9886 - val_loss: 0.0154 - val_accuracy: 0.9959\n",
      "Epoch 84/100\n",
      "31/31 [==============================] - 52s 2s/step - loss: 0.0406 - accuracy: 0.9875 - val_loss: 0.0175 - val_accuracy: 0.9876\n",
      "Epoch 85/100\n",
      "31/31 [==============================] - 52s 2s/step - loss: 0.0350 - accuracy: 0.9886 - val_loss: 0.0486 - val_accuracy: 0.9751\n",
      "Epoch 86/100\n",
      "31/31 [==============================] - 52s 2s/step - loss: 0.0262 - accuracy: 0.9886 - val_loss: 0.0155 - val_accuracy: 0.9959\n",
      "Epoch 87/100\n",
      "31/31 [==============================] - 52s 2s/step - loss: 0.0194 - accuracy: 0.9927 - val_loss: 0.0067 - val_accuracy: 0.9959\n",
      "Epoch 88/100\n",
      "31/31 [==============================] - 52s 2s/step - loss: 0.0373 - accuracy: 0.9834 - val_loss: 0.0044 - val_accuracy: 1.0000\n",
      "Epoch 89/100\n",
      "31/31 [==============================] - 52s 2s/step - loss: 0.0157 - accuracy: 0.9938 - val_loss: 0.0023 - val_accuracy: 1.0000\n",
      "Epoch 90/100\n",
      "31/31 [==============================] - 52s 2s/step - loss: 0.0097 - accuracy: 0.9948 - val_loss: 0.0090 - val_accuracy: 0.9959\n",
      "Epoch 91/100\n",
      "31/31 [==============================] - 52s 2s/step - loss: 0.0273 - accuracy: 0.9875 - val_loss: 0.0039 - val_accuracy: 0.9959\n",
      "Epoch 92/100\n",
      "31/31 [==============================] - 52s 2s/step - loss: 0.0302 - accuracy: 0.9917 - val_loss: 0.0043 - val_accuracy: 1.0000\n",
      "Epoch 93/100\n",
      "31/31 [==============================] - 52s 2s/step - loss: 0.0443 - accuracy: 0.9782 - val_loss: 0.0101 - val_accuracy: 0.9959\n",
      "Epoch 94/100\n",
      "31/31 [==============================] - 52s 2s/step - loss: 0.0671 - accuracy: 0.9792 - val_loss: 0.1065 - val_accuracy: 0.9627\n",
      "Epoch 95/100\n",
      "31/31 [==============================] - 53s 2s/step - loss: 0.0417 - accuracy: 0.9865 - val_loss: 0.0570 - val_accuracy: 0.9751\n",
      "Epoch 96/100\n",
      "31/31 [==============================] - 53s 2s/step - loss: 0.0137 - accuracy: 0.9969 - val_loss: 0.0011 - val_accuracy: 1.0000\n",
      "Epoch 97/100\n",
      "31/31 [==============================] - 51s 2s/step - loss: 0.0171 - accuracy: 0.9948 - val_loss: 0.0010 - val_accuracy: 1.0000\n",
      "Epoch 98/100\n",
      "31/31 [==============================] - 49s 2s/step - loss: 0.0137 - accuracy: 0.9969 - val_loss: 7.2417e-04 - val_accuracy: 1.0000\n",
      "Epoch 99/100\n",
      "31/31 [==============================] - 48s 2s/step - loss: 0.0085 - accuracy: 0.9979 - val_loss: 0.0011 - val_accuracy: 1.0000\n",
      "Epoch 100/100\n",
      "31/31 [==============================] - 52s 2s/step - loss: 0.0252 - accuracy: 0.9927 - val_loss: 5.9363e-04 - val_accuracy: 1.0000\n"
     ]
    }
   ],
   "source": [
    "# compile and train model\n",
    "model.compile(optimizer='adam',\n",
    "              loss='categorical_crossentropy',\n",
    "              metrics=['accuracy'])\n",
    "history = model.fit_generator(datagen.flow(x_train, y_train), epochs = 100, validation_data=(x_test,y_test))"
   ]
  },
  {
   "cell_type": "markdown",
   "id": "f61fc35f",
   "metadata": {},
   "source": [
    "## PLOTTING "
   ]
  },
  {
   "cell_type": "code",
   "execution_count": 40,
   "id": "35883013",
   "metadata": {},
   "outputs": [
    {
     "data": {
      "text/plain": [
       "<matplotlib.legend.Legend at 0x2916b6c2440>"
      ]
     },
     "execution_count": 40,
     "metadata": {},
     "output_type": "execute_result"
    },
    {
     "data": {
      "image/png": "[encoded data removed]",
      "text/plain": [
       "<Figure size 432x288 with 1 Axes>"
      ]
     },
     "metadata": {
      "needs_background": "light"
     },
     "output_type": "display_data"
    }
   ],
   "source": [
    "plt.plot(history.history['accuracy'], label='accuracy')\n",
    "plt.plot(history.history['val_accuracy'], label = 'val_accuracy')\n",
    "plt.xlabel('Epoch')\n",
    "plt.ylabel('Accuracy')\n",
    "#plt.ylim([0.5, 1])\n",
    "plt.legend(loc='lower right')\n",
    "\n",
    "#test_loss, test_acc = model.evaluate(validation_ds, verbose=2)"
   ]
  },
  {
   "cell_type": "code",
   "execution_count": 41,
   "id": "45781272",
   "metadata": {},
   "outputs": [
    {
     "data": {
      "text/plain": [
       "<matplotlib.legend.Legend at 0x2916ba8b2e0>"
      ]
     },
     "execution_count": 41,
     "metadata": {},
     "output_type": "execute_result"
    },
    {
     "data": {
      "image/png": "[encoded data removed]",
      "text/plain": [
       "<Figure size 432x288 with 1 Axes>"
      ]
     },
     "metadata": {
      "needs_background": "light"
     },
     "output_type": "display_data"
    }
   ],
   "source": [
    "plt.plot(history.history['loss'], label='loss')\n",
    "plt.plot(history.history['val_loss'], label = 'val_loss')\n",
    "plt.xlabel('Epoch')\n",
    "plt.ylabel('val_loss')\n",
    "#plt.ylim([0.5, 1])\n",
    "plt.legend(loc='lower right')"
   ]
  },
  {
   "cell_type": "code",
   "execution_count": 42,
   "id": "f5c99e69",
   "metadata": {},
   "outputs": [
    {
     "data": {
      "text/plain": [
       "(241, 224, 224, 1)"
      ]
     },
     "execution_count": 42,
     "metadata": {},
     "output_type": "execute_result"
    }
   ],
   "source": [
    "x_test.shape"
   ]
  },
  {
   "cell_type": "code",
   "execution_count": 43,
   "id": "7c8b98cd",
   "metadata": {},
   "outputs": [
    {
     "data": {
      "text/plain": [
       "(241, 3)"
      ]
     },
     "execution_count": 43,
     "metadata": {},
     "output_type": "execute_result"
    }
   ],
   "source": [
    "y_test.shape"
   ]
  },
  {
   "cell_type": "code",
   "execution_count": 44,
   "id": "9c74d8f0",
   "metadata": {},
   "outputs": [
    {
     "name": "stdout",
     "output_type": "stream",
     "text": [
      "8/8 [==============================] - 3s 347ms/step - loss: 5.9363e-04 - accuracy: 1.0000\n",
      "Test loss: 0.000593629025388509\n",
      "Test accuracy: 1.0\n"
     ]
    }
   ],
   "source": [
    "score = model.evaluate(x_test, y_test,batch_size=32)\n",
    "print('Test loss:', score[0])\n",
    "print('Test accuracy:', score[1])"
   ]
  },
  {
   "cell_type": "code",
   "execution_count": 45,
   "id": "b6c88311",
   "metadata": {},
   "outputs": [
    {
     "name": "stdout",
     "output_type": "stream",
     "text": [
      "[[9.99992490e-01 7.56867621e-06 5.69711438e-15]\n",
      " [4.31990375e-05 1.66432907e-13 9.99956846e-01]\n",
      " [9.99999881e-01 1.51820160e-07 1.58380462e-10]\n",
      " [9.99999642e-01 3.78296846e-07 1.46572598e-11]\n",
      " [9.99997616e-01 2.41348425e-06 6.96398716e-10]\n",
      " [8.75930155e-08 9.99999881e-01 5.58973241e-16]\n",
      " [9.99981165e-01 1.87947862e-05 1.32769754e-10]\n",
      " [3.04403657e-05 1.30686770e-12 9.99969602e-01]\n",
      " [1.52177768e-06 9.99998450e-01 7.09735979e-15]\n",
      " [9.99999762e-01 2.37021538e-07 1.05895692e-09]\n",
      " [4.04938518e-08 1.50397153e-12 1.00000000e+00]\n",
      " [1.00000000e+00 4.40841114e-12 9.43873243e-11]\n",
      " [3.13205947e-03 9.96867955e-01 1.63136594e-13]\n",
      " [4.52393408e-07 9.99999523e-01 7.69117012e-15]\n",
      " [9.99998093e-01 1.85269585e-06 1.15778793e-11]\n",
      " [7.90430859e-05 9.99920964e-01 5.07469175e-13]\n",
      " [7.24407769e-08 8.00994192e-17 9.99999881e-01]\n",
      " [9.99929547e-01 7.04912309e-05 5.83284115e-11]\n",
      " [9.99996543e-01 3.51250242e-06 1.89608010e-10]\n",
      " [9.99998331e-01 1.70455201e-06 1.23651733e-09]\n",
      " [1.23622362e-03 3.29466426e-10 9.98763800e-01]\n",
      " [9.99933243e-01 6.67851418e-05 4.14595658e-13]\n",
      " [1.00000000e+00 8.97932395e-09 1.25435244e-08]\n",
      " [2.09127593e-05 9.99979138e-01 4.52250576e-14]\n",
      " [1.11901173e-07 9.99999881e-01 1.08150047e-16]\n",
      " [9.99993801e-01 6.15372710e-06 5.74211567e-10]\n",
      " [5.18590070e-07 2.60793093e-14 9.99999523e-01]\n",
      " [6.22741572e-05 9.99937773e-01 1.46860611e-16]\n",
      " [9.97275651e-01 6.52967191e-09 2.72440631e-03]\n",
      " [9.99973297e-01 2.66464394e-05 1.78951663e-11]\n",
      " [9.89964664e-01 1.00353481e-02 1.22241894e-09]\n",
      " [7.19940729e-08 1.18095746e-13 9.99999881e-01]\n",
      " [8.11016605e-08 9.99999881e-01 1.64464973e-16]\n",
      " [1.49397849e-07 9.79453335e-14 9.99999881e-01]\n",
      " [8.75759767e-08 2.51734973e-14 9.99999881e-01]\n",
      " [6.75086994e-07 8.78642960e-17 9.99999285e-01]\n",
      " [9.32453349e-06 4.13398274e-11 9.99990702e-01]\n",
      " [9.99817669e-01 1.82341231e-04 4.79680795e-10]\n",
      " [7.74181626e-06 1.19092555e-10 9.99992251e-01]\n",
      " [9.99752343e-01 6.48186338e-10 2.47701944e-04]\n",
      " [3.94642319e-09 4.71511372e-16 1.00000000e+00]\n",
      " [3.62401224e-05 3.86501009e-09 9.99963760e-01]\n",
      " [1.21286939e-06 5.33160018e-15 9.99998808e-01]\n",
      " [1.00000000e+00 2.89724955e-09 3.01413614e-08]\n",
      " [4.93911284e-05 3.67453353e-15 9.99950647e-01]\n",
      " [1.73192857e-05 3.20518080e-14 9.99982715e-01]\n",
      " [6.84032898e-07 1.62286336e-13 9.99999285e-01]\n",
      " [1.51768414e-04 1.35602909e-11 9.99848247e-01]\n",
      " [1.43987345e-04 9.99855995e-01 6.39499330e-15]\n",
      " [1.00000000e+00 1.23847199e-08 8.09388431e-14]\n",
      " [9.99706566e-01 2.93400517e-04 4.02590609e-15]\n",
      " [9.99949932e-01 5.00142087e-05 9.97242081e-11]\n",
      " [1.27404797e-04 9.99872565e-01 1.02432578e-08]\n",
      " [7.65796631e-06 1.14022732e-11 9.99992371e-01]\n",
      " [4.13331909e-05 1.48889234e-10 9.99958634e-01]\n",
      " [7.72887674e-08 9.99999881e-01 9.56118549e-18]\n",
      " [2.33414939e-05 9.99976635e-01 5.42955611e-12]\n",
      " [1.18949094e-06 9.99998808e-01 6.01116029e-19]\n",
      " [2.81624182e-07 8.06998218e-12 9.99999762e-01]\n",
      " [7.24407769e-08 8.00994192e-17 9.99999881e-01]\n",
      " [8.43327289e-05 9.63333996e-11 9.99915719e-01]\n",
      " [9.13406257e-06 7.48075601e-10 9.99990821e-01]\n",
      " [4.13331909e-05 1.48889234e-10 9.99958634e-01]\n",
      " [9.99988317e-01 1.15054199e-05 5.98429395e-08]\n",
      " [4.60494988e-07 9.99999523e-01 1.41490874e-14]\n",
      " [8.19754223e-06 9.99991775e-01 1.04709472e-16]\n",
      " [9.99913216e-01 8.66953560e-05 8.91663348e-08]\n",
      " [7.51309130e-08 9.99999881e-01 2.64081553e-16]\n",
      " [2.12775774e-07 9.95318664e-16 9.99999762e-01]\n",
      " [8.43327289e-05 9.63333996e-11 9.99915719e-01]\n",
      " [1.06229592e-07 9.99999881e-01 1.44248884e-17]\n",
      " [1.13021895e-06 9.99998927e-01 1.48614379e-17]\n",
      " [9.99994397e-01 5.65681739e-06 1.82675342e-09]\n",
      " [5.73407931e-07 9.99999404e-01 2.47436264e-14]\n",
      " [9.99848008e-01 9.08144449e-10 1.51998538e-04]\n",
      " [7.15923107e-08 9.99999881e-01 4.17274026e-16]\n",
      " [3.26339986e-08 5.93199209e-17 1.00000000e+00]\n",
      " [2.15173273e-07 9.99999762e-01 2.94500836e-16]\n",
      " [9.99991179e-01 8.78880473e-06 5.72526679e-11]\n",
      " [5.42238471e-04 9.99457777e-01 2.36113334e-11]\n",
      " [1.80877748e-08 3.03660227e-14 1.00000000e+00]\n",
      " [9.99885321e-01 1.14694485e-04 2.31811403e-10]\n",
      " [9.98078942e-01 1.92107807e-03 1.06680990e-10]\n",
      " [9.99998927e-01 1.03203047e-06 5.01460096e-10]\n",
      " [2.82283139e-08 1.00000000e+00 3.52613827e-17]\n",
      " [9.99999762e-01 1.79496553e-07 3.07643971e-12]\n",
      " [3.79175276e-07 9.99999642e-01 4.52179122e-20]\n",
      " [7.31443379e-07 1.96201433e-09 9.99999285e-01]\n",
      " [3.02280398e-07 9.99999642e-01 6.06160663e-15]\n",
      " [1.82331348e-06 9.99998212e-01 1.26210442e-19]\n",
      " [2.51177596e-07 9.99999762e-01 1.63693996e-14]\n",
      " [1.94669852e-07 9.99999762e-01 4.38747847e-17]\n",
      " [5.21208356e-08 1.28690444e-14 1.00000000e+00]\n",
      " [3.38257973e-06 1.56144628e-11 9.99996662e-01]\n",
      " [9.99999404e-01 6.35661195e-07 5.94475424e-13]\n",
      " [1.00243471e-06 9.99999046e-01 1.96513679e-17]\n",
      " [4.03367812e-06 9.99995947e-01 8.14961206e-12]\n",
      " [5.33276463e-08 1.00000000e+00 8.95375301e-17]\n",
      " [9.99999285e-01 6.72435192e-07 3.43533049e-11]\n",
      " [3.34047625e-04 9.99665976e-01 3.73534363e-12]\n",
      " [4.64743586e-08 1.00000000e+00 3.04779944e-19]\n",
      " [1.97613417e-06 3.08101282e-13 9.99997973e-01]\n",
      " [1.19691776e-07 7.27005268e-17 9.99999881e-01]\n",
      " [1.47552015e-07 1.49222106e-13 9.99999881e-01]\n",
      " [1.10229021e-05 5.18203059e-12 9.99989033e-01]\n",
      " [6.03493208e-05 9.99939680e-01 3.41371514e-11]\n",
      " [1.00000000e+00 1.60128022e-09 1.28804540e-08]\n",
      " [9.99999881e-01 1.54551216e-07 1.01170869e-11]\n",
      " [1.00000000e+00 1.11446168e-08 9.39946965e-09]\n",
      " [2.69161298e-08 1.00000000e+00 3.28153567e-17]\n",
      " [2.24040014e-06 9.99997735e-01 5.58901389e-17]\n",
      " [9.99994397e-01 5.62184960e-06 2.76686868e-10]\n",
      " [1.02417106e-08 1.26114244e-14 1.00000000e+00]\n",
      " [9.99912620e-01 8.74191028e-05 5.21229193e-09]\n",
      " [9.99955773e-01 2.42282722e-11 4.42277669e-05]\n",
      " [9.19880404e-06 1.99131635e-14 9.99990821e-01]\n",
      " [9.99938130e-01 6.18482809e-05 2.04024853e-10]\n",
      " [2.39157794e-06 9.99997616e-01 8.82765909e-12]\n",
      " [1.01731445e-07 5.31520086e-14 9.99999881e-01]\n",
      " [1.54714769e-07 1.41029788e-12 9.99999881e-01]\n",
      " [1.30998933e-06 9.99998689e-01 7.20197610e-13]\n",
      " [1.88283339e-05 2.53115785e-15 9.99981165e-01]\n",
      " [1.98569887e-06 9.99997973e-01 1.83536797e-10]\n",
      " [9.99879718e-01 4.93370635e-07 1.19773591e-04]\n",
      " [2.43592785e-06 9.99997616e-01 7.25235979e-18]\n",
      " [5.36517177e-07 9.99999404e-01 1.05384851e-13]\n",
      " [9.99975562e-01 2.44592920e-05 6.65243460e-09]\n",
      " [2.14215675e-07 9.99999762e-01 1.41844720e-16]\n",
      " [4.63170879e-09 1.00000000e+00 1.67321449e-17]\n",
      " [9.25053391e-05 1.36615205e-10 9.99907494e-01]\n",
      " [1.61056414e-06 2.17264943e-12 9.99998331e-01]\n",
      " [1.55144875e-07 2.87933773e-14 9.99999881e-01]\n",
      " [1.72886903e-05 9.99982715e-01 1.51755897e-14]\n",
      " [7.77528294e-06 1.08241075e-12 9.99992251e-01]\n",
      " [7.21547440e-06 9.99992728e-01 2.14806751e-15]\n",
      " [1.00000000e+00 2.56849226e-08 2.15374421e-08]\n",
      " [9.99552548e-01 4.47418191e-04 2.50053952e-15]\n",
      " [4.11459996e-06 7.49561593e-11 9.99995828e-01]\n",
      " [9.99944806e-01 6.98890112e-10 5.51577141e-05]\n",
      " [8.05750915e-07 1.25994050e-12 9.99999166e-01]\n",
      " [1.50298305e-07 1.29042210e-17 9.99999881e-01]\n",
      " [9.99999881e-01 1.31130776e-07 2.27495730e-13]\n",
      " [9.99999523e-01 4.51123753e-07 2.21063718e-08]\n",
      " [9.99999166e-01 8.56363069e-09 8.04349725e-07]\n",
      " [6.43402643e-07 9.99999404e-01 8.95605251e-21]\n",
      " [6.55951226e-05 1.36758340e-14 9.99934435e-01]\n",
      " [1.22825243e-03 4.10110035e-09 9.98771727e-01]\n",
      " [9.99998212e-01 1.75689649e-06 3.99522060e-09]\n",
      " [9.99976277e-01 4.30143388e-09 2.36852411e-05]\n",
      " [2.56221824e-06 2.87779800e-11 9.99997497e-01]\n",
      " [7.47183435e-08 9.99999881e-01 5.53786065e-16]\n",
      " [5.07638376e-08 1.00000000e+00 5.88611798e-18]\n",
      " [9.99983549e-01 1.64440316e-05 5.32179118e-13]\n",
      " [1.10790213e-08 1.00000000e+00 7.67668193e-18]\n",
      " [3.77753189e-08 1.00000000e+00 3.10355519e-17]\n",
      " [6.21419895e-05 4.38127887e-13 9.99937892e-01]\n",
      " [4.65767744e-06 9.99995351e-01 1.11255074e-13]\n",
      " [9.99409318e-01 3.18855697e-09 5.90748503e-04]\n",
      " [2.11803513e-06 6.37605067e-14 9.99997854e-01]\n",
      " [1.72159105e-08 1.00000000e+00 2.35126446e-16]\n",
      " [2.62048616e-07 1.12876055e-15 9.99999762e-01]\n",
      " [9.01441672e-06 1.34080756e-12 9.99990940e-01]\n",
      " [9.99105394e-01 8.94604949e-04 9.03697187e-11]\n",
      " [9.99956727e-01 5.09167686e-09 4.33030582e-05]\n",
      " [1.54803311e-05 1.52266411e-11 9.99984503e-01]\n",
      " [1.01112995e-07 1.79181149e-11 9.99999881e-01]\n",
      " [1.00000000e+00 3.76825182e-10 7.95182253e-10]\n",
      " [1.00000000e+00 2.08969944e-08 1.80107776e-10]\n",
      " [1.14550794e-07 1.30246280e-12 9.99999881e-01]\n",
      " [9.47750686e-06 9.99990463e-01 5.94288412e-14]\n",
      " [5.64103266e-06 8.53581190e-14 9.99994397e-01]\n",
      " [9.99917030e-01 8.29268611e-05 2.43492054e-12]\n",
      " [9.99947786e-01 5.21686707e-05 1.14091667e-10]\n",
      " [9.99993205e-01 6.79458481e-06 2.10405304e-10]\n",
      " [2.38302349e-07 9.99999762e-01 6.67908020e-20]\n",
      " [9.99995112e-01 2.18113166e-10 4.92458912e-06]\n",
      " [9.99999285e-01 1.17359519e-07 6.14901182e-07]\n",
      " [5.08395351e-05 9.99949217e-01 4.78549356e-14]\n",
      " [9.99982476e-01 1.80368147e-08 1.74714060e-05]\n",
      " [7.85070853e-08 9.99999881e-01 1.40097836e-20]\n",
      " [4.14493028e-03 8.02022360e-09 9.95855033e-01]\n",
      " [9.71832269e-05 9.99902844e-01 1.36773023e-11]\n",
      " [1.02839135e-06 7.38596848e-17 9.99998927e-01]\n",
      " [3.80697548e-02 2.12426712e-05 9.61908937e-01]\n",
      " [2.11803513e-06 6.37606287e-14 9.99997854e-01]\n",
      " [7.13760455e-05 9.99928594e-01 2.60161528e-14]\n",
      " [3.27139976e-04 7.55487065e-07 9.99672174e-01]\n",
      " [6.87325796e-09 2.96976210e-15 1.00000000e+00]\n",
      " [5.52680758e-05 9.99944687e-01 7.09379170e-13]\n",
      " [2.06230288e-06 1.14562339e-17 9.99997973e-01]\n",
      " [1.25703181e-07 9.24610735e-12 9.99999881e-01]\n",
      " [9.99703228e-01 2.96655402e-04 7.97306825e-08]\n",
      " [1.27567437e-05 5.77933430e-11 9.99987245e-01]\n",
      " [7.99062127e-06 1.52124736e-11 9.99992013e-01]\n",
      " [3.88516781e-07 9.99999642e-01 3.39367952e-17]\n",
      " [4.82744422e-09 1.00000000e+00 4.49112479e-20]\n",
      " [9.71118861e-05 9.99902844e-01 5.90915383e-15]\n",
      " [7.47552840e-05 2.82168937e-08 9.99925256e-01]\n",
      " [9.99999523e-01 5.30011903e-07 6.52471063e-11]\n",
      " [1.44904993e-06 9.99998569e-01 7.73447604e-14]\n",
      " [9.99845743e-01 6.83475609e-10 1.54196256e-04]\n",
      " [3.11669100e-05 1.61578446e-13 9.99968886e-01]\n",
      " [9.99999881e-01 2.97974451e-10 7.03021925e-08]\n",
      " [9.99999642e-01 3.93771103e-07 2.59935788e-08]\n",
      " [9.99995828e-01 4.11663314e-06 1.25304931e-11]\n",
      " [5.20298613e-07 9.99999523e-01 2.02823826e-16]\n",
      " [9.40248185e-07 9.99999046e-01 1.26276704e-16]\n",
      " [9.99993920e-01 6.08202890e-06 3.70552790e-11]\n",
      " [9.48766101e-05 9.74938885e-08 9.99904990e-01]\n",
      " [1.59044471e-03 9.98408854e-01 7.02924638e-07]\n",
      " [9.99995947e-01 4.00992121e-06 1.02204183e-08]\n",
      " [4.68593062e-05 2.71898979e-11 9.99953151e-01]\n",
      " [4.82560099e-05 9.99951720e-01 3.36198322e-12]\n",
      " [9.71253833e-09 1.00000000e+00 6.43123372e-18]\n",
      " [2.27213764e-06 9.99997735e-01 7.12690337e-14]\n",
      " [2.42137190e-08 2.13572094e-15 1.00000000e+00]\n",
      " [1.00000000e+00 7.47931672e-09 2.72772950e-11]\n",
      " [9.99997616e-01 2.36430810e-06 1.76904949e-10]\n",
      " [1.00000000e+00 1.47093437e-09 4.80608398e-09]\n",
      " [9.99999166e-01 6.01715833e-09 8.24399478e-07]\n",
      " [6.55748772e-06 9.99993443e-01 3.63385737e-17]\n",
      " [8.55343023e-05 7.83480170e-10 9.99914408e-01]\n",
      " [1.94109052e-05 5.87148399e-14 9.99980569e-01]\n",
      " [9.99836922e-01 1.62612545e-04 4.47217758e-07]\n",
      " [6.38831630e-02 1.84509827e-05 9.36098397e-01]\n",
      " [1.37237475e-05 9.99986291e-01 4.29260035e-13]\n",
      " [1.14368095e-05 9.99988556e-01 4.36519700e-15]\n",
      " [3.50795915e-07 9.99999642e-01 1.29087677e-14]\n",
      " [6.36321056e-05 9.99936342e-01 9.49294324e-11]\n",
      " [9.99999404e-01 6.05951200e-08 4.84967870e-07]\n",
      " [5.14451131e-06 9.99994874e-01 1.94087419e-14]\n",
      " [3.40305734e-03 2.59323096e-09 9.96596992e-01]\n",
      " [8.94493102e-09 1.00000000e+00 4.21444320e-17]\n",
      " [1.88461217e-06 4.69944361e-10 9.99998093e-01]\n",
      " [2.32264952e-07 9.99999762e-01 2.40325721e-19]\n",
      " [9.99581635e-01 4.18424199e-04 4.87712030e-13]\n",
      " [9.99970436e-01 2.95620557e-05 6.01638253e-11]\n",
      " [1.23685595e-06 9.99998808e-01 3.79654808e-18]\n",
      " [4.59393641e-06 1.08823046e-13 9.99995351e-01]\n",
      " [1.85961397e-07 9.99999762e-01 4.04573138e-16]\n",
      " [9.99969959e-01 2.52585892e-07 2.97920233e-05]]\n",
      "[0 2 0 0 0 1 0 2 1 0 2 0 1 1 0 1 2 0 0 0 2 0 0 1 1 0 2 1 0 0 0 2 1 2 2 2 2\n",
      " 0 2 0 2 2 2 0 2 2 2 2 1 0 0 0 1 2 2 1 1 1 2 2 2 2 2 0 1 1 0 1 2 2 1 1 0 1\n",
      " 0 1 2 1 0 1 2 0 0 0 1 0 1 2 1 1 1 1 2 2 0 1 1 1 0 1 1 2 2 2 2 1 0 0 0 1 1\n",
      " 0 2 0 0 2 0 1 2 2 1 2 1 0 1 1 0 1 1 2 2 2 1 2 1 0 0 2 0 2 2 0 0 0 1 2 2 0\n",
      " 0 2 1 1 0 1 1 2 1 0 2 1 2 2 0 0 2 2 0 0 2 1 2 0 0 0 1 0 0 1 0 1 2 1 2 2 2\n",
      " 1 2 2 1 2 2 0 2 2 1 1 1 2 0 1 0 2 0 0 0 1 1 0 2 1 0 2 1 1 1 2 0 0 0 0 1 2\n",
      " 2 0 2 1 1 1 1 0 1 2 1 2 1 0 0 1 2 1 0]\n"
     ]
    }
   ],
   "source": [
    "y_predict=model.predict(x_test)\n",
    "print(y_predict)\n",
    "y_result  =np.argmax(y_predict,axis =1)\n",
    "print(y_result)\n",
    "y_test=np.argmax(y_test,axis =1)"
   ]
  },
  {
   "cell_type": "code",
   "execution_count": 46,
   "id": "efd72cdc",
   "metadata": {},
   "outputs": [
    {
     "name": "stdout",
     "output_type": "stream",
     "text": [
      "[0 2 0 0 0 1 0 2 1 0 2 0 1 1 0 1 2 0 0 0 2 0 0 1 1 0 2 1 0 0 0 2 1 2 2 2 2\n",
      " 0 2 0 2 2 2 0 2 2 2 2 1 0 0 0 1 2 2 1 1 1 2 2 2 2 2 0 1 1 0 1 2 2 1 1 0 1\n",
      " 0 1 2 1 0 1 2 0 0 0 1 0 1 2 1 1 1 1 2 2 0 1 1 1 0 1 1 2 2 2 2 1 0 0 0 1 1\n",
      " 0 2 0 0 2 0 1 2 2 1 2 1 0 1 1 0 1 1 2 2 2 1 2 1 0 0 2 0 2 2 0 0 0 1 2 2 0\n",
      " 0 2 1 1 0 1 1 2 1 0 2 1 2 2 0 0 2 2 0 0 2 1 2 0 0 0 1 0 0 1 0 1 2 1 2 2 2\n",
      " 1 2 2 1 2 2 0 2 2 1 1 1 2 0 1 0 2 0 0 0 1 1 0 2 1 0 2 1 1 1 2 0 0 0 0 1 2\n",
      " 2 0 2 1 1 1 1 0 1 2 1 2 1 0 0 1 2 1 0]\n"
     ]
    }
   ],
   "source": [
    "print(y_result)"
   ]
  },
  {
   "cell_type": "code",
   "execution_count": 47,
   "id": "23ab2cf5",
   "metadata": {},
   "outputs": [
    {
     "data": {
      "text/plain": [
       "<matplotlib.image.AxesImage at 0x2916bbbe8f0>"
      ]
     },
     "execution_count": 47,
     "metadata": {},
     "output_type": "execute_result"
    },
    {
     "data": {
      "image/png": "[encoded data removed]",
      "text/plain": [
       "<Figure size 432x288 with 1 Axes>"
      ]
     },
     "metadata": {
      "needs_background": "light"
     },
     "output_type": "display_data"
    }
   ],
   "source": [
    "plt.imshow(x_test[0])"
   ]
  },
  {
   "cell_type": "markdown",
   "id": "6eda0003",
   "metadata": {},
   "source": [
    "## PLOTTING CONFUSION MATRIX"
   ]
  },
  {
   "cell_type": "code",
   "execution_count": 48,
   "id": "2cafd3b8",
   "metadata": {},
   "outputs": [
    {
     "name": "stdout",
     "output_type": "stream",
     "text": [
      "accuracy_score 1.0\n",
      "\n",
      "confusion_matrix               precision    recall  f1-score   support\n",
      "\n",
      "           0       1.00      1.00      1.00        80\n",
      "           1       1.00      1.00      1.00        80\n",
      "           2       1.00      1.00      1.00        81\n",
      "\n",
      "    accuracy                           1.00       241\n",
      "   macro avg       1.00      1.00      1.00       241\n",
      "weighted avg       1.00      1.00      1.00       241\n",
      "\n"
     ]
    },
    {
     "data": {
      "image/png": "[encoded data removed]",
      "text/plain": [
       "<Figure size 432x288 with 2 Axes>"
      ]
     },
     "metadata": {
      "needs_background": "light"
     },
     "output_type": "display_data"
    }
   ],
   "source": [
    "from sklearn.metrics import classification_report as cr,accuracy_score,confusion_matrix\n",
    "cm =confusion_matrix(y_test,y_result)\n",
    "sns.heatmap(cm,annot =True)\n",
    "print(\"accuracy_score\",accuracy_score(y_test,y_result))\n",
    "print()\n",
    "print('confusion_matrix',cr(y_test,y_result))"
   ]
  },
  {
   "cell_type": "code",
   "execution_count": 49,
   "id": "01c28222",
   "metadata": {},
   "outputs": [
    {
     "data": {
      "text/plain": [
       "array([0, 2, 0, 0, 0, 1, 0, 2, 1, 0, 2, 0, 1, 1, 0, 1, 2, 0, 0, 0, 2, 0,\n",
       "       0, 1, 1, 0, 2, 1, 0, 0, 0, 2, 1, 2, 2, 2, 2, 0, 2, 0, 2, 2, 2, 0,\n",
       "       2, 2, 2, 2, 1, 0, 0, 0, 1, 2, 2, 1, 1, 1, 2, 2, 2, 2, 2, 0, 1, 1,\n",
       "       0, 1, 2, 2, 1, 1, 0, 1, 0, 1, 2, 1, 0, 1, 2, 0, 0, 0, 1, 0, 1, 2,\n",
       "       1, 1, 1, 1, 2, 2, 0, 1, 1, 1, 0, 1, 1, 2, 2, 2, 2, 1, 0, 0, 0, 1,\n",
       "       1, 0, 2, 0, 0, 2, 0, 1, 2, 2, 1, 2, 1, 0, 1, 1, 0, 1, 1, 2, 2, 2,\n",
       "       1, 2, 1, 0, 0, 2, 0, 2, 2, 0, 0, 0, 1, 2, 2, 0, 0, 2, 1, 1, 0, 1,\n",
       "       1, 2, 1, 0, 2, 1, 2, 2, 0, 0, 2, 2, 0, 0, 2, 1, 2, 0, 0, 0, 1, 0,\n",
       "       0, 1, 0, 1, 2, 1, 2, 2, 2, 1, 2, 2, 1, 2, 2, 0, 2, 2, 1, 1, 1, 2,\n",
       "       0, 1, 0, 2, 0, 0, 0, 1, 1, 0, 2, 1, 0, 2, 1, 1, 1, 2, 0, 0, 0, 0,\n",
       "       1, 2, 2, 0, 2, 1, 1, 1, 1, 0, 1, 2, 1, 2, 1, 0, 0, 1, 2, 1, 0],\n",
       "      dtype=int64)"
      ]
     },
     "execution_count": 49,
     "metadata": {},
     "output_type": "execute_result"
    }
   ],
   "source": [
    "y_test"
   ]
  },
  {
   "cell_type": "code",
   "execution_count": 50,
   "id": "0840e68c",
   "metadata": {},
   "outputs": [],
   "source": [
    "model.save(\"amena.h5\")"
   ]
  },
  {
   "cell_type": "markdown",
   "id": "36bbae17",
   "metadata": {},
   "source": [
    "# PREDICTION"
   ]
  },
  {
   "cell_type": "code",
   "execution_count": 51,
   "id": "a01abbbd",
   "metadata": {},
   "outputs": [
    {
     "name": "stdout",
     "output_type": "stream",
     "text": [
      "(1, 224, 224, 1)\n"
     ]
    },
    {
     "data": {
      "image/png": "[encoded data removed]",
      "text/plain": [
       "<Figure size 432x288 with 1 Axes>"
      ]
     },
     "metadata": {
      "needs_background": "light"
     },
     "output_type": "display_data"
    }
   ],
   "source": [
    "image =cv2.imread(r\"F:\\Dataset\\pic's\\C\\5.jpg\")\n",
    "gray =cv2.cvtColor(image,cv2.COLOR_BGR2GRAY)\n",
    "Gaussain_blur =cv2.GaussianBlur(gray,(5,5),4)\n",
    "th3=cv2.adaptiveThreshold(Gaussain_blur,255,cv2.ADAPTIVE_THRESH_GAUSSIAN_C,cv2.THRESH_BINARY_INV,11,2)\n",
    "ret,res = cv2.threshold(th3, 0, 255, cv2.THRESH_BINARY_INV+cv2.THRESH_OTSU)\n",
    "kernel = np.ones((3, 3), np.uint8)\n",
    "closing = cv2.morphologyEx(res, cv2.MORPH_CLOSE, kernel, iterations=1)\n",
    "test_image =closing/255\n",
    "test_image = np.expand_dims(test_image,0)\n",
    "test_image = test_image.reshape(1,224,224,1)\n",
    "\n",
    "\n",
    "plt.imshow(res,cmap =\"gray\")\n",
    "print(test_image.shape)"
   ]
  },
  {
   "cell_type": "code",
   "execution_count": null,
   "id": "a670462d",
   "metadata": {},
   "outputs": [],
   "source": []
  },
  {
   "cell_type": "code",
   "execution_count": 52,
   "id": "6ce9d976",
   "metadata": {},
   "outputs": [
    {
     "name": "stdout",
     "output_type": "stream",
     "text": [
      "[[1.3303348e-02 8.4481933e-10 9.8669666e-01]]\n"
     ]
    },
    {
     "data": {
      "text/plain": [
       "array([2], dtype=int64)"
      ]
     },
     "execution_count": 52,
     "metadata": {},
     "output_type": "execute_result"
    }
   ],
   "source": [
    "pred_img= model.predict(np.array(test_image))\n",
    "print(pred_img)\n",
    "pred_result  =np.argmax(pred_img,axis =1)\n",
    "pred_result"
   ]
  },
  {
   "cell_type": "code",
   "execution_count": 53,
   "id": "eb8ceb59",
   "metadata": {},
   "outputs": [
    {
     "name": "stdout",
     "output_type": "stream",
     "text": [
      "(1, 224, 224, 1)\n"
     ]
    },
    {
     "data": {
      "image/png": "[encoded data removed]",
      "text/plain": [
       "<Figure size 432x288 with 1 Axes>"
      ]
     },
     "metadata": {
      "needs_background": "light"
     },
     "output_type": "display_data"
    }
   ],
   "source": [
    "image_b =cv2.imread(r'F:\\Dataset\\Sign pics\\B\\3.jpg')\n",
    "gray =cv2.cvtColor(image_b,cv2.COLOR_BGR2GRAY)\n",
    "Gaussain_blur =cv2.GaussianBlur(gray,(5,5),4)\n",
    "th3=cv2.adaptiveThreshold(Gaussain_blur,255,cv2.ADAPTIVE_THRESH_GAUSSIAN_C,cv2.THRESH_BINARY_INV,11,2)\n",
    "ret,res = cv2.threshold(th3, 0, 255, cv2.THRESH_BINARY_INV+cv2.THRESH_OTSU)\n",
    "kernel = np.ones((3, 3), np.uint8)\n",
    "closing = cv2.morphologyEx(res, cv2.MORPH_CLOSE, kernel, iterations=1)\n",
    "test_image =closing/255\n",
    "test_image = np.expand_dims(test_image,0)\n",
    "test_image = test_image.reshape(1,224,224,1)\n",
    "plt.imshow(res,cmap =\"gray\")\n",
    "print(test_image.shape)"
   ]
  },
  {
   "cell_type": "code",
   "execution_count": 54,
   "id": "d818b391",
   "metadata": {},
   "outputs": [
    {
     "name": "stdout",
     "output_type": "stream",
     "text": [
      "[[8.5348276e-08 9.9999988e-01 4.9939523e-13]]\n"
     ]
    },
    {
     "data": {
      "text/plain": [
       "array([1], dtype=int64)"
      ]
     },
     "execution_count": 54,
     "metadata": {},
     "output_type": "execute_result"
    }
   ],
   "source": [
    "pred_img=model.predict(np.array(test_image))\n",
    "print(pred_img)\n",
    "pred_result  =np.argmax(pred_img,axis =1)\n",
    "pred_result"
   ]
  },
  {
   "cell_type": "code",
   "execution_count": 55,
   "id": "b7b9c1ca",
   "metadata": {},
   "outputs": [
    {
     "name": "stdout",
     "output_type": "stream",
     "text": [
      "(1, 224, 224, 1)\n"
     ]
    },
    {
     "data": {
      "image/png": "[encoded data removed]",
      "text/plain": [
       "<Figure size 432x288 with 1 Axes>"
      ]
     },
     "metadata": {
      "needs_background": "light"
     },
     "output_type": "display_data"
    }
   ],
   "source": [
    "image_c =cv2.imread(r\"F:\\Dataset\\Sign pics\\B\\3.jpg\")\n",
    "gray =cv2.cvtColor(image_c,cv2.COLOR_BGR2GRAY)\n",
    "Gaussain_blur =cv2.GaussianBlur(gray,(5,5),4)\n",
    "th3=cv2.adaptiveThreshold(Gaussain_blur,255,cv2.ADAPTIVE_THRESH_GAUSSIAN_C,cv2.THRESH_BINARY_INV,11,2)\n",
    "ret,res = cv2.threshold(th3, 0, 255, cv2.THRESH_BINARY_INV+cv2.THRESH_OTSU)\n",
    "kernel = np.ones((3, 3), np.uint8)\n",
    "closing = cv2.morphologyEx(res, cv2.MORPH_CLOSE, kernel, iterations=1)\n",
    "test_image =closing/255\n",
    "test_image = np.expand_dims(test_image,0)\n",
    "test_image = test_image.reshape(1,224,224,1)\n",
    "plt.imshow(res,cmap =\"gray\")\n",
    "print(test_image.shape)"
   ]
  },
  {
   "cell_type": "code",
   "execution_count": 56,
   "id": "fbdf1d86",
   "metadata": {},
   "outputs": [
    {
     "name": "stdout",
     "output_type": "stream",
     "text": [
      "[[8.5348276e-08 9.9999988e-01 4.9939523e-13]]\n"
     ]
    },
    {
     "data": {
      "text/plain": [
       "array([1], dtype=int64)"
      ]
     },
     "execution_count": 56,
     "metadata": {},
     "output_type": "execute_result"
    }
   ],
   "source": [
    "pred_img=model.predict(np.array(test_image))\n",
    "print(pred_img)\n",
    "pred_result  =np.argmax(pred_img,axis =1)\n",
    "pred_result"
   ]
  },
  {
   "cell_type": "code",
   "execution_count": null,
   "id": "647e83eb",
   "metadata": {},
   "outputs": [],
   "source": [
    "\n"
   ]
  },
  {
   "cell_type": "code",
   "execution_count": null,
   "id": "b703b297",
   "metadata": {},
   "outputs": [],
   "source": []
  },
  {
   "cell_type": "code",
   "execution_count": null,
   "id": "cf981213",
   "metadata": {},
   "outputs": [],
   "source": []
  },
  {
   "cell_type": "code",
   "execution_count": null,
   "id": "26af1fa8",
   "metadata": {},
   "outputs": [],
   "source": []
  }
 ],
 "metadata": {
  "kernelspec": {
   "display_name": "Python 3 (ipykernel)",
   "language": "python",
   "name": "python3"
  },
  "language_info": {
   "codemirror_mode": {
    "name": "ipython",
    "version": 3
   },
   "file_extension": ".py",
   "mimetype": "text/x-python",
   "name": "python",
   "nbconvert_exporter": "python",
   "pygments_lexer": "ipython3",
   "version": "3.10.5"
  }
 },
 "nbformat": 4,
 "nbformat_minor": 5
}
